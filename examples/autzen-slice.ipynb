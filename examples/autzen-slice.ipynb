{
 "cells": [
  {
   "cell_type": "markdown",
   "id": "8e320b80-f162-4dad-8f5b-17032c782daf",
   "metadata": {},
   "source": [
    "# View a slice of the Autzen point cloud\n",
    "\n",
    "The data used in this notebook can be [found here](https://github.com/PDAL/data/tree/master/autzen) and has a BSD license as [described here](https://pdal.io/en/latest/copyright.html#overall-pdal-license-bsd)."
   ]
  },
  {
   "cell_type": "code",
   "execution_count": null,
   "id": "9c3469f7-b9c0-4fc2-a142-46cd0fd2ae45",
   "metadata": {},
   "outputs": [],
   "source": [
    "import pandas as pd\n",
    "import tiledb\n",
    "from pybabylonjs import Show as show"
   ]
  },
  {
   "cell_type": "markdown",
   "id": "22aa9555-41c0-491d-8f36-1ecaf1c21122",
   "metadata": {},
   "source": [
    "## Data sources\n",
    "\n",
    "A slice of a point cloud can be viewed from three different sources specified by the `source` parameter:\n",
    "* a TileDB Cloud array (`source = \"cloud\"`)\n",
    "* a local TileDB array (`source = \"local\"`)\n",
    "* a dictionary (`source = \"dict\"`)\n",
    "\n",
    "In all cases a bounding box (`bbox`) with the minimum and maximum values of X, Y and Z is needed to slice the data from the array:"
   ]
  },
  {
   "cell_type": "code",
   "execution_count": null,
   "id": "fec9e371-519c-44d5-95b0-7bc2f3093a1c",
   "metadata": {},
   "outputs": [],
   "source": [
    "bbox = {\n",
    "    'X': [636800, 637200],\n",
    "    'Y': [852800, 853100],\n",
    "    'Z': [406.14, 615.26]\n",
    "}"
   ]
  },
  {
   "cell_type": "markdown",
   "id": "a149a0e0-c9ac-4b99-b830-4c54e85248fe",
   "metadata": {},
   "source": [
    "### Cloud array\n",
    "\n",
    "To view point cloud data from a TileDB cloud array a `token` is needed: \n",
    "* [sign up for a TileDB account](https://cloud.tiledb.com/auth/signup)\n",
    "\n",
    "When running this notebook locally:\n",
    "* [create a token as described here](https://docs.tiledb.com/cloud/how-to/account/create-api-tokens)\n",
    "* uncomment the below cell and add your token (`<token>`)\n",
    "* run the below cells\n",
    "\n",
    "When running this notebook on TileDB Cloud:\n",
    "* the token will be automatically loaded\n",
    "* remove the token from the list of parameters of `show.point_cloud`\n",
    "* run the below cells"
   ]
  },
  {
   "cell_type": "code",
   "execution_count": null,
   "id": "70c457fe-5245-4a1c-b1e6-5970d8af0b85",
   "metadata": {},
   "outputs": [],
   "source": [
    "#token = \"<token>\""
   ]
  },
  {
   "cell_type": "code",
   "execution_count": null,
   "id": "6b2f4d85-9704-45c0-888d-5bf94b6a3989",
   "metadata": {
    "tags": []
   },
   "outputs": [],
   "source": [
    "show.point_cloud(source=\"cloud\",\n",
    "                 uri = \"tiledb://TileDB-Inc/autzen_classified_tiledb\",\n",
    "                 token=token,\n",
    "                 bbox = bbox,\n",
    "                 point_size = 3,\n",
    "                 rgb_max = 65535,\n",
    "                 camera_up = 25,\n",
    "                 camera_location = 2,\n",
    "                 camera_zoom = [2,2,2],\n",
    "                 point_type = 'fixed_world_size',\n",
    "                 width=1000,\n",
    "                 height=600)"
   ]
  },
  {
   "cell_type": "markdown",
   "id": "cc1939af-2756-4186-8622-4f30b5b26d49",
   "metadata": {},
   "source": [
    "## Optional: create and view a point cloud array from a LAZ file"
   ]
  },
  {
   "cell_type": "code",
   "execution_count": null,
   "id": "8f43beb0-5de1-4329-a4bf-f28339b8b0d8",
   "metadata": {},
   "outputs": [],
   "source": [
    "import pdal"
   ]
  },
  {
   "cell_type": "code",
   "execution_count": null,
   "id": "fb1f30f8-6c05-48c2-b1af-574ae76e1252",
   "metadata": {},
   "outputs": [],
   "source": [
    "!wget -nc \"https://github.com/PDAL/data/blob/master/autzen/autzen-classified.laz?raw=true\" -O \"autzen-classified.laz\""
   ]
  },
  {
   "cell_type": "code",
   "execution_count": null,
   "id": "a29673a4-798f-444c-915b-ab4bd4a2be21",
   "metadata": {},
   "outputs": [],
   "source": [
    "pipeline = (\n",
    "  pdal.Reader(\"autzen-classified.laz\") |\n",
    "  pdal.Filter.stats() |\n",
    "  pdal.Writer.tiledb(array_name=\"autzen-classified\",chunk_size=100000)\n",
    ")\n",
    "\n",
    "count = pipeline.execute()  "
   ]
  },
  {
   "cell_type": "markdown",
   "id": "8ef43d2c-9214-4fd1-bddc-04afc9e144e3",
   "metadata": {},
   "source": [
    "### Local array\n",
    "The point cloud data from the newly created array can now be viewed with the below. Note that a larger slice is loaded than in the cells above."
   ]
  },
  {
   "cell_type": "code",
   "execution_count": null,
   "id": "39fef3ab-8669-4897-a3fb-73ee3bf12b4a",
   "metadata": {},
   "outputs": [],
   "source": [
    "lidar_array = \"autzen-classified\""
   ]
  },
  {
   "cell_type": "code",
   "execution_count": null,
   "id": "77f078f4-a600-4fac-a180-fb3e773aa32b",
   "metadata": {},
   "outputs": [],
   "source": [
    "bbox2 = {\n",
    "    'X': [636800, 637800],\n",
    "    'Y': [851000, 853000],\n",
    "    'Z': [406.14, 615.26]\n",
    "}"
   ]
  },
  {
   "cell_type": "code",
   "execution_count": null,
   "id": "b9c04560-76f4-41b3-a658-a9b4f23c15eb",
   "metadata": {},
   "outputs": [],
   "source": [
    "show.point_cloud(source=\"local\",\n",
    "                 uri=lidar_array,\n",
    "                 bbox = bbox2,\n",
    "                 width = 1000,\n",
    "                 height = 800,\n",
    "                 point_size = 3,\n",
    "                 rgb_max = 65535,\n",
    "                 camera_up = 25,\n",
    "                 camera_location = 2,\n",
    "                 camera_zoom = [2,2,2],\n",
    "                 point_type = 'fixed_world_size')"
   ]
  },
  {
   "cell_type": "markdown",
   "id": "321874d3-6119-4edc-8250-64fe3e10be4f",
   "metadata": {},
   "source": [
    "### Data from a dictionary\n",
    "Alternatively data can be loaded into a dictionary first and then displayed. \n",
    "\n",
    "Load the data directly into a dictionary from the local array:"
   ]
  },
  {
   "cell_type": "code",
   "execution_count": null,
   "id": "67b71dbc-d2be-4b2f-9972-f4719a33ea82",
   "metadata": {},
   "outputs": [],
   "source": [
    "with tiledb.open(lidar_array) as arr:\n",
    "    data = arr.query(attrs=[\"Red\", \"Green\", \"Blue\"], dims=[\"X\", \"Y\", \"Z\"])[\n",
    "        bbox2[\"X\"][0] : bbox2[\"X\"][1],\n",
    "        bbox2[\"Y\"][0] : bbox2[\"Y\"][1],\n",
    "        bbox2[\"Z\"][0] : bbox2[\"Z\"][1],\n",
    "    ]"
   ]
  },
  {
   "cell_type": "markdown",
   "id": "6953f74c-2cc9-4786-be41-f05ff0da14fc",
   "metadata": {},
   "source": [
    "Or first load the data into a pandas DataFrame when for example pre-processing of the data is needed:"
   ]
  },
  {
   "cell_type": "code",
   "execution_count": null,
   "id": "4bf0e649-5997-4b44-b6f9-f39b9400c6b3",
   "metadata": {},
   "outputs": [],
   "source": [
    "with tiledb.open(lidar_array) as arr:\n",
    "    df = pd.DataFrame(arr[\n",
    "        bbox2[\"X\"][0] : bbox2[\"X\"][1],\n",
    "        bbox2[\"Y\"][0] : bbox2[\"Y\"][1],\n",
    "        bbox2[\"Z\"][0] : bbox2[\"Z\"][1]])"
   ]
  },
  {
   "cell_type": "code",
   "execution_count": null,
   "id": "6f81d1bc-81d2-4cbb-9c94-17643215c085",
   "metadata": {},
   "outputs": [],
   "source": [
    "df = df.drop(['ReturnNumber', 'NumberOfReturns', 'ScanDirectionFlag', 'EdgeOfFlightLine', 'ScanAngleRank', 'UserData', 'PointSourceId', 'ScanChannel', 'ClassFlags'], axis=1)"
   ]
  },
  {
   "cell_type": "code",
   "execution_count": null,
   "id": "4b024dc4-030b-4054-b2a9-a936077f4e74",
   "metadata": {},
   "outputs": [],
   "source": [
    "df"
   ]
  },
  {
   "cell_type": "code",
   "execution_count": null,
   "id": "b1636835-9527-4fc1-ad57-6ac4f3e2407f",
   "metadata": {},
   "outputs": [],
   "source": [
    "data = {\n",
    "    'X': df['X'],\n",
    "    'Y': df['Y'],\n",
    "    'Z': df['Z'],\n",
    "    'Red': df['Red'],\n",
    "    'Green': df['Green'],\n",
    "    'Blue': df['Blue']\n",
    "}"
   ]
  },
  {
   "cell_type": "code",
   "execution_count": null,
   "id": "a4bcf7ed-af2b-447a-ae3a-66cc67db1a84",
   "metadata": {},
   "outputs": [],
   "source": [
    "show.point_cloud(source=\"dict\",\n",
    "                 data=data,\n",
    "                 bbox = bbox2,\n",
    "                 point_size = 3,\n",
    "                 width = 1000,\n",
    "                 height = 700,\n",
    "                 rgb_max = 65535,\n",
    "                 camera_up = 25,\n",
    "                 camera_location = 2,\n",
    "                 camera_zoom = [2,2,2])"
   ]
  },
  {
   "cell_type": "code",
   "execution_count": null,
   "id": "f74a68fc-1a35-45da-b8cd-dfff684822bc",
   "metadata": {},
   "outputs": [],
   "source": []
  }
 ],
 "metadata": {
  "kernelspec": {
   "display_name": "Python 3 (ipykernel)",
   "language": "python",
   "name": "python3"
  },
  "language_info": {
   "codemirror_mode": {
    "name": "ipython",
    "version": 3
   },
   "file_extension": ".py",
   "mimetype": "text/x-python",
   "name": "python",
   "nbconvert_exporter": "python",
   "pygments_lexer": "ipython3",
   "version": "3.7.10"
  }
 },
 "nbformat": 4,
 "nbformat_minor": 5
}
