{
 "cells": [
  {
   "cell_type": "markdown",
   "id": "0bc65c29-e65c-4f30-b7bd-727ad123c78b",
   "metadata": {},
   "source": [
    "# Stream and visualize the Santorini point cloud\n",
    "\n",
    "This notebook streams and visualizes a point cloud of the Kameni Islands, Santorini (Greece). The original data files were [downloaded from here](https://figshare.com/articles/dataset/2012_Santorini_LiDAR_data/1138718) and more details are in [this paper](https://www.sciencedirect.com/science/article/pii/S2214242814000047)."
   ]
  },
  {
   "cell_type": "code",
   "execution_count": null,
   "id": "b80510a7-8c5c-4df1-851a-5e0a830280da",
   "metadata": {},
   "outputs": [],
   "source": [
    "from pybabylonjs import Show as show"
   ]
  },
  {
   "cell_type": "markdown",
   "id": "a1edabed-77d9-4729-b54b-0a8991be192d",
   "metadata": {},
   "source": [
    "To stream and view point cloud data from a TileDB array a `token` is needed: \n",
    "* [sign up for a TileDB account](https://cloud.tiledb.com/auth/signup)\n",
    "\n",
    "When running this notebook locally:\n",
    "* [create a token as described here](https://docs.tiledb.com/cloud/how-to/account/create-api-tokens)\n",
    "* uncomment the below cell and add your token (`<token>`)\n",
    "* run the below cells\n",
    "\n",
    "When running this notebook on TileDB Cloud:\n",
    "* the token will be automatically loaded\n",
    "* remove the token from the list of parameters of `show.point_cloud`\n",
    "* run the below cells"
   ]
  },
  {
   "cell_type": "code",
   "execution_count": null,
   "id": "c2b9f363-f5cb-44f7-b37a-eef820d31386",
   "metadata": {},
   "outputs": [],
   "source": [
    "#token = \"<token>\""
   ]
  },
  {
   "cell_type": "code",
   "execution_count": null,
   "id": "59f6b2c2-43cc-447b-8d25-b641626445c8",
   "metadata": {},
   "outputs": [],
   "source": [
    "show.point_cloud(streaming=True,\n",
    "                 uri=\"tiledb://TileDB-Inc/santorini\",\n",
    "                 token=token,\n",
    "                 point_size = 6,\n",
    "                 wheel_precision = 0.2,\n",
    "                 color_scheme = 'dark',\n",
    "                 width = 1200,\n",
    "                 height = 800,             \n",
    "                 rgb_max = 255,\n",
    "                 point_budget = 3000000,\n",
    "                 camera_location = 5,\n",
    "                 camera_zoom = [1, 1, 4],\n",
    "                 camera_up = 200, \n",
    "                 move_speed = 6,\n",
    "                 point_type = 'fixed_world_size')"
   ]
  },
  {
   "cell_type": "code",
   "execution_count": null,
   "id": "26fb01d4-8362-4a98-b835-b7f1a550c870",
   "metadata": {},
   "outputs": [],
   "source": []
  }
 ],
 "metadata": {
  "kernelspec": {
   "display_name": "Python 3 (ipykernel)",
   "language": "python",
   "name": "python3"
  },
  "language_info": {
   "codemirror_mode": {
    "name": "ipython",
    "version": 3
   },
   "file_extension": ".py",
   "mimetype": "text/x-python",
   "name": "python",
   "nbconvert_exporter": "python",
   "pygments_lexer": "ipython3",
   "version": "3.7.10"
  }
 },
 "nbformat": 4,
 "nbformat_minor": 5
}
