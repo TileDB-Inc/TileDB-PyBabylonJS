{
 "cells": [
  {
   "cell_type": "markdown",
   "id": "71b119a2-8ded-4cf2-8082-ebda1c4043fb",
   "metadata": {},
   "source": [
    "# Boulder Point Cloud Data Visualization\n",
    "\n",
    "This visualization shows a demo of rendering LiDAR data in an interactive dashboard.\n",
    "\n",
    "Point cloud data from https://www.pixel8.earth/ is licensed as CC by [2.0](https://creativecommons.org/licenses/by/2.0/legalcode) "
   ]
  },
  {
   "cell_type": "code",
   "execution_count": null,
   "id": "d390f128-bcc0-471d-baed-2bd969da5e31",
   "metadata": {},
   "outputs": [],
   "source": [
    "import numpy as np\n",
    "import pandas as pd\n",
    "import pdal\n",
    "from mpl_toolkits.mplot3d import Axes3D\n",
    "import matplotlib.pyplot as plt\n",
    "\n",
    "from pybabylonjs import Show as show\n",
    "import tiledb"
   ]
  },
  {
   "cell_type": "markdown",
   "id": "bf39f38e-3047-4d5a-87de-c036c64ac0dc",
   "metadata": {},
   "source": [
    "### Cloud array\n",
    "To display point cloud data from a TileDB cloud array a TileDB `token` is needed: \n",
    "* [Sign up for a free TileDB account](https://cloud.tiledb.com/auth/signup)\n",
    "* [Create a token as described here](https://docs.tiledb.com/cloud/how-to/account/create-api-tokens)\n",
    "* Paste the token into the below cell (`***`)\n",
    "* Customize the visualization by clicking on `Customize` and then change the parameters"
   ]
  },
  {
   "cell_type": "code",
   "execution_count": null,
   "id": "6bc94b47-47ed-4547-92a8-4ebbb2f954e8",
   "metadata": {},
   "outputs": [],
   "source": [
    "token = \"***\""
   ]
  },
  {
   "cell_type": "code",
   "execution_count": null,
   "id": "f10e4391-3639-4a72-b59a-22b0f6e03b55",
   "metadata": {},
   "outputs": [],
   "source": [
    "bbox = {\n",
    "    'X': [475425.0, 475428.915],\n",
    "    'Y': [4429710.508, 4429713.178],\n",
    "    'Z': [1651.678, 1658.245]}"
   ]
  },
  {
   "cell_type": "code",
   "execution_count": null,
   "id": "2a99dd39-4a1d-474d-9bff-325cdff7c6c8",
   "metadata": {},
   "outputs": [],
   "source": [
    "show.point_cloud(source=\"cloud\",\n",
    "                 uri = \"tiledb://TileDB-Inc/boulder\",\n",
    "                 token=token,\n",
    "                 bbox=bbox,\n",
    "                 point_size = 2.5,\n",
    "                 width = 1000,\n",
    "                 height = 500,\n",
    "                 rgb_max = 65280,\n",
    "                 camera_radius = 20,\n",
    "                 )"
   ]
  },
  {
   "cell_type": "code",
   "execution_count": null,
   "id": "f92171f9-4164-4da6-8459-3007c5fea16c",
   "metadata": {},
   "outputs": [],
   "source": []
  }
 ],
 "metadata": {
  "kernelspec": {
   "display_name": "Python 3 (ipykernel)",
   "language": "python",
   "name": "python3"
  },
  "language_info": {
   "codemirror_mode": {
    "name": "ipython",
    "version": 3
   },
   "file_extension": ".py",
   "mimetype": "text/x-python",
   "name": "python",
   "nbconvert_exporter": "python",
   "pygments_lexer": "ipython3",
   "version": "3.7.10"
  }
 },
 "nbformat": 4,
 "nbformat_minor": 5
}
