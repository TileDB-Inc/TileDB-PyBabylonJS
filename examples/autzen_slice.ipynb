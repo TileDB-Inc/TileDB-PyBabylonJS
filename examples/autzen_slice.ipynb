{
 "cells": [
  {
   "cell_type": "markdown",
   "id": "8e320b80-f162-4dad-8f5b-17032c782daf",
   "metadata": {},
   "source": [
    "# Point Cloud Data Visualization\n",
    "\n",
    "* Visualize the point cloud from a\n",
    "    * local array\n",
    "    * cloud array\n",
    "    * dictionary\n",
    "* Customize with optional parameters"
   ]
  },
  {
   "cell_type": "code",
   "execution_count": null,
   "id": "9c3469f7-b9c0-4fc2-a142-46cd0fd2ae45",
   "metadata": {},
   "outputs": [],
   "source": [
    "import requests\n",
    "import json\n",
    "\n",
    "import pandas as pd\n",
    "import pdal\n",
    "from pybabylonjs import Show as show\n",
    "import tiledb"
   ]
  },
  {
   "cell_type": "markdown",
   "id": "cc1939af-2756-4186-8622-4f30b5b26d49",
   "metadata": {},
   "source": [
    "## Optional: create a sparse TileDB array from a LAZ file"
   ]
  },
  {
   "cell_type": "code",
   "execution_count": null,
   "id": "fb1f30f8-6c05-48c2-b1af-574ae76e1252",
   "metadata": {},
   "outputs": [],
   "source": [
    "!wget -nc \"https://github.com/PDAL/data/blob/master/autzen/autzen-classified.laz?raw=true\" -O \"autzen-classified.laz\""
   ]
  },
  {
   "cell_type": "code",
   "execution_count": null,
   "id": "a29673a4-798f-444c-915b-ab4bd4a2be21",
   "metadata": {},
   "outputs": [],
   "source": [
    "pipeline = (\n",
    "  pdal.Reader(\"autzen-classified.laz\") |\n",
    "  pdal.Filter.stats() |\n",
    "  pdal.Writer.tiledb(array_name=\"autzen-classified\",chunk_size=100000)\n",
    ")\n",
    "\n",
    "count = pipeline.execute()  "
   ]
  },
  {
   "cell_type": "markdown",
   "id": "22aa9555-41c0-491d-8f36-1ecaf1c21122",
   "metadata": {},
   "source": [
    "## Data sources\n",
    "\n",
    "The point cloud data can be loaded in three different ways that are specfied by the `source` parameter:\n",
    "* a locally stored TileDB array (`source = \"local\"`)\n",
    "* a TileDB Cloud array (`source = \"cloud\"`)\n",
    "* a dictionary (`source = \"dict\"`)\n",
    "\n",
    "To load and display a slice of the data a bounding box with the minimum and maximum values of X, Y and Z are needed:"
   ]
  },
  {
   "cell_type": "code",
   "execution_count": null,
   "id": "fec9e371-519c-44d5-95b0-7bc2f3093a1c",
   "metadata": {},
   "outputs": [],
   "source": [
    "bbox = {\n",
    "    'X': [636800, 637200],\n",
    "    'Y': [852800, 853100],\n",
    "    'Z': [406.14, 615.26]\n",
    "}\n",
    "\n",
    "bbox2 = {\n",
    "    'X': [636800, 637800],\n",
    "    'Y': [851000, 853000],\n",
    "    'Z': [406.14, 615.26]\n",
    "}"
   ]
  },
  {
   "cell_type": "markdown",
   "id": "a149a0e0-c9ac-4b99-b830-4c54e85248fe",
   "metadata": {},
   "source": [
    "### Cloud array\n",
    "To display point cloud data from a TileDB cloud array a TileDB `token` is needed: \n",
    "* [Sign up for a free TileDB account](https://cloud.tiledb.com/auth/signup)\n",
    "* [Create a token as described here](https://docs.tiledb.com/cloud/how-to/account/create-api-tokens)\n",
    "* Paste the token into the below cell (`<token>`)"
   ]
  },
  {
   "cell_type": "code",
   "execution_count": null,
   "id": "70c457fe-5245-4a1c-b1e6-5970d8af0b85",
   "metadata": {},
   "outputs": [],
   "source": [
    "token = \"<token>\""
   ]
  },
  {
   "cell_type": "code",
   "execution_count": null,
   "id": "6b2f4d85-9704-45c0-888d-5bf94b6a3989",
   "metadata": {
    "tags": []
   },
   "outputs": [],
   "source": [
    "show.point_cloud(source=\"cloud\",\n",
    "                 uri = \"tiledb://TileDB-Inc/autzen_classified_tiledb\",\n",
    "                 token=token,\n",
    "                 bbox = bbox,\n",
    "                 particle_size = 6,\n",
    "                 width = 1000,\n",
    "                 height = 1000,\n",
    "                 rgb_max = 65535,\n",
    "                 camera_radius = 1000,\n",
    "                 z_scale = 1.2)"
   ]
  },
  {
   "cell_type": "markdown",
   "id": "8ef43d2c-9214-4fd1-bddc-04afc9e144e3",
   "metadata": {},
   "source": [
    "### Local array\n",
    "Point cloud data in a local array is loaded and displayed with the below."
   ]
  },
  {
   "cell_type": "code",
   "execution_count": null,
   "id": "39fef3ab-8669-4897-a3fb-73ee3bf12b4a",
   "metadata": {},
   "outputs": [],
   "source": [
    "lidar_array = \"autzen-classified\""
   ]
  },
  {
   "cell_type": "code",
   "execution_count": null,
   "id": "b9c04560-76f4-41b3-a658-a9b4f23c15eb",
   "metadata": {},
   "outputs": [],
   "source": [
    "show.point_cloud(source=\"local\",\n",
    "                 uri=lidar_array,\n",
    "                 bbox = bbox2,\n",
    "                 particle_size = 4,\n",
    "                 width = 1000,\n",
    "                 height = 800,\n",
    "                 rgb_max = 65535,\n",
    "                 camera_radius = 1000,\n",
    "                 particle_budget = 8000000,\n",
    "                 zscale = 3)"
   ]
  },
  {
   "cell_type": "markdown",
   "id": "321874d3-6119-4edc-8250-64fe3e10be4f",
   "metadata": {},
   "source": [
    "### Data from a dictionary\n",
    "Alternatively data can be loaded into a dictionary first and then displayed. \n",
    "\n",
    "Load the data directly into a dictionary from the local array:"
   ]
  },
  {
   "cell_type": "code",
   "execution_count": null,
   "id": "67b71dbc-d2be-4b2f-9972-f4719a33ea82",
   "metadata": {},
   "outputs": [],
   "source": [
    "with tiledb.open(lidar_array) as arr:\n",
    "    data = arr.query(attrs=[\"Red\", \"Green\", \"Blue\"], dims=[\"X\", \"Y\", \"Z\"])[\n",
    "        bbox[\"X\"][0] : bbox[\"X\"][1],\n",
    "        bbox[\"Y\"][0] : bbox[\"Y\"][1],\n",
    "        bbox[\"Z\"][0] : bbox[\"Z\"][1],\n",
    "    ]"
   ]
  },
  {
   "cell_type": "markdown",
   "id": "6953f74c-2cc9-4786-be41-f05ff0da14fc",
   "metadata": {},
   "source": [
    "Or first load the data into a pandas DataFrame when for example pre-processing of the data is needed:"
   ]
  },
  {
   "cell_type": "code",
   "execution_count": null,
   "id": "4bf0e649-5997-4b44-b6f9-f39b9400c6b3",
   "metadata": {},
   "outputs": [],
   "source": [
    "with tiledb.open(lidar_array) as arr:\n",
    "    df = pd.DataFrame(arr[\n",
    "        bbox[\"X\"][0] : bbox[\"X\"][1],\n",
    "        bbox[\"Y\"][0] : bbox[\"Y\"][1],\n",
    "        bbox[\"Z\"][0] : bbox[\"Z\"][1]])"
   ]
  },
  {
   "cell_type": "code",
   "execution_count": null,
   "id": "6f81d1bc-81d2-4cbb-9c94-17643215c085",
   "metadata": {},
   "outputs": [],
   "source": [
    "df = df.drop(['ReturnNumber', 'NumberOfReturns', 'ScanDirectionFlag', 'EdgeOfFlightLine', 'ScanAngleRank', 'UserData', 'PointSourceId', 'ScanChannel', 'ClassFlags'], axis=1)"
   ]
  },
  {
   "cell_type": "code",
   "execution_count": null,
   "id": "4b024dc4-030b-4054-b2a9-a936077f4e74",
   "metadata": {},
   "outputs": [],
   "source": [
    "df"
   ]
  },
  {
   "cell_type": "code",
   "execution_count": null,
   "id": "b1636835-9527-4fc1-ad57-6ac4f3e2407f",
   "metadata": {},
   "outputs": [],
   "source": [
    "data = {\n",
    "    'X': df['X'],\n",
    "    'Y': df['Y'],\n",
    "    'Z': df['Z'],\n",
    "    'Red': df['Red'],\n",
    "    'Green': df['Green'],\n",
    "    'Blue': df['Blue']\n",
    "}"
   ]
  },
  {
   "cell_type": "code",
   "execution_count": null,
   "id": "a4bcf7ed-af2b-447a-ae3a-66cc67db1a84",
   "metadata": {},
   "outputs": [],
   "source": [
    "show.point_cloud(source=\"dict\",\n",
    "                 data=data,\n",
    "                 bbox = bbox,\n",
    "                 particle_size = 2.5,\n",
    "                 width = 1000,\n",
    "                 height = 700,\n",
    "                 rgb_max = 65535,\n",
    "                 camera_radius = 700,\n",
    "                 edl_strength = 3)"
   ]
  },
  {
   "cell_type": "markdown",
   "id": "efebcc6b-af38-4988-bddc-343d551e3a54",
   "metadata": {},
   "source": [
    "## Optional parameters\n",
    "\n",
    "There are several parameters to change the way the visualization looks:\n",
    "\n",
    "* `width` and `height` define the size of the display canvas (defaults are 800 and 600)\n",
    "* `particle_size` sets the size of the points (default is 1)\n",
    "* `color_scheme` sets the background color scheme, choose from \"dark\" (default), \"light\" and \"blue\"\n",
    "* `rgb_max` is the maximum RGB value used to scale all values between 0 and 1, when not provided it will be calculated from the data\n",
    "* 'camera_radius' \n",
    "* `show_fraction` can be used to display a fraction of the points, showing every *nth* point from the loaded data\n",
    "\n",
    "An example:"
   ]
  },
  {
   "cell_type": "code",
   "execution_count": null,
   "id": "950da2b4-359a-42ed-97ec-3873eecdebc0",
   "metadata": {},
   "outputs": [],
   "source": [
    "show.point_cloud(source=\"dict\",\n",
    "                data=data,\n",
    "                bbox=bbox,\n",
    "                width=800,\n",
    "                height=700,\n",
    "                particle_size=3,\n",
    "                color_scheme=\"light\",\n",
    "                rgb_max=65535, \n",
    "                camera_radius = 1000,\n",
    "                show_fraction = 4)"
   ]
  },
  {
   "cell_type": "code",
   "execution_count": null,
   "id": "f74a68fc-1a35-45da-b8cd-dfff684822bc",
   "metadata": {},
   "outputs": [],
   "source": []
  }
 ],
 "metadata": {
  "kernelspec": {
   "display_name": "Python 3 (ipykernel)",
   "language": "python",
   "name": "python3"
  },
  "language_info": {
   "codemirror_mode": {
    "name": "ipython",
    "version": 3
   },
   "file_extension": ".py",
   "mimetype": "text/x-python",
   "name": "python",
   "nbconvert_exporter": "python",
   "pygments_lexer": "ipython3",
   "version": "3.7.10"
  }
 },
 "nbformat": 4,
 "nbformat_minor": 5
}
