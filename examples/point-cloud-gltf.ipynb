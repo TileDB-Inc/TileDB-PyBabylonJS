{
 "cells": [
  {
   "cell_type": "markdown",
   "id": "e89ada4d-bb1b-49ff-9d7e-4a5c2e386ab2",
   "metadata": {},
   "source": [
    "# Point Cloud Data Visualization with GLTF models"
   ]
  },
  {
   "cell_type": "code",
   "execution_count": null,
   "id": "25862f91-ff48-454e-9dde-05d67ba8a68d",
   "metadata": {},
   "outputs": [],
   "source": [
    "import math\n",
    "import json\n",
    "import numpy as np\n",
    "from pybabylonjs import Show as show\n",
    "import tiledb"
   ]
  },
  {
   "cell_type": "markdown",
   "id": "48e95c4f-bc26-4d67-803c-93c8f1724330",
   "metadata": {},
   "source": [
    "Load the gltf model:"
   ]
  },
  {
   "cell_type": "code",
   "execution_count": null,
   "id": "296015d6-b5d6-498e-945d-c2ec0ff131bb",
   "metadata": {},
   "outputs": [],
   "source": [
    "with open(\"gltf/farmhouse.gltf\") as f:\n",
    "    gltf_data = f.read()"
   ]
  },
  {
   "cell_type": "markdown",
   "id": "f4e616ab-baad-450d-b96e-ba9be6f8ddf6",
   "metadata": {},
   "source": [
    "Create a point cloud ground surface for this building:"
   ]
  },
  {
   "cell_type": "code",
   "execution_count": null,
   "id": "a58649e9-18a2-4127-afd5-dca5c3884701",
   "metadata": {},
   "outputs": [],
   "source": [
    "(minx, maxx), (miny, maxy), (minz, maxz) = ((-80, 80), (-150, 150), (-30, 40))\n",
    "extent = 50.\n",
    "num_vals = 1000\n",
    "\n",
    "xs = np.random.default_rng().uniform(minx - extent, maxx + extent, num_vals)\n",
    "ys = np.random.default_rng().uniform(miny - extent, maxy + extent, num_vals)\n",
    "zs = np.random.default_rng().uniform(-5., 0., num_vals)\n",
    "\n",
    "data = {\n",
    "    \"X\": xs,\n",
    "    \"Y\": ys,\n",
    "    \"Z\": zs,\n",
    "    \"Red\": np.random.default_rng().uniform(0., 1., num_vals),\n",
    "    \"Green\": np.random.default_rng().uniform(0., 1., num_vals),\n",
    "    \"Blue\": np.random.default_rng().uniform(0., 1., num_vals)\n",
    "}"
   ]
  },
  {
   "cell_type": "markdown",
   "id": "8094f79b-38dc-4483-9a17-aa5e21926501",
   "metadata": {},
   "source": [
    "**And render:**\n",
    "\n",
    "Hotkeys to interact with the point cloud:\n",
    "\n",
    "* [C] switch between two camera options\n",
    "* [W] forward\n",
    "* [D] backward\n",
    "* [A] left\n",
    "* [S] right\n",
    "* [E] up\n",
    "* [Q] down\n",
    "\n",
    "Hotkeys to interact with the mesh:\n",
    "* click on a mesh to select it\n",
    "* click anywhere else to deselect\n",
    "* [F] to focus on selected mesh\n",
    "* [R] to toggle selected mesh wireframe\n",
    "* [=] to perform a basic clash detection\n",
    "* [-] to return to the original point cloud"
   ]
  },
  {
   "cell_type": "code",
   "execution_count": null,
   "id": "2ae70fbe-5c4d-4ca9-b127-2e1b9aaed71c",
   "metadata": {},
   "outputs": [],
   "source": [
    "show.point_cloud(source='dict',\n",
    "                 mode=\"gltf\",\n",
    "                 data=data,\n",
    "                 gltf_data = gltf_data,\n",
    "                 point_size = 5)"
   ]
  },
  {
   "cell_type": "markdown",
   "id": "90e2fd04-bbe8-4d14-a840-ee3172b18860",
   "metadata": {},
   "source": [
    "Move the point cloud with:\n",
    "* `point_shift`\n",
    "\n",
    "Move,rotate and scale the mesh with:\n",
    "* `mesh_shift`\n",
    "* `mesh_rotation`\n",
    "* `mesh_scale`"
   ]
  },
  {
   "cell_type": "code",
   "execution_count": null,
   "id": "b8fde9a1-bf0e-4deb-9530-77f870165715",
   "metadata": {},
   "outputs": [],
   "source": [
    "show.point_cloud(source='dict',\n",
    "                mode=\"gltf\",\n",
    "                data=data,\n",
    "                gltf_data = gltf_data,\n",
    "                point_size = 5,\n",
    "                point_shift = [50,0,10],\n",
    "                mesh_shift = [200, 0, 100],\n",
    "                mesh_rotation = [0, math.pi/2, 0],\n",
    "                mesh_scale = [4, 2, 3])"
   ]
  },
  {
   "cell_type": "code",
   "execution_count": null,
   "id": "3c2bba7c-a4f6-4697-8b2a-0a05063de0c9",
   "metadata": {},
   "outputs": [],
   "source": []
  }
 ],
 "metadata": {
  "kernelspec": {
   "display_name": "Python 3 (ipykernel)",
   "language": "python",
   "name": "python3"
  },
  "language_info": {
   "codemirror_mode": {
    "name": "ipython",
    "version": 3
   },
   "file_extension": ".py",
   "mimetype": "text/x-python",
   "name": "python",
   "nbconvert_exporter": "python",
   "pygments_lexer": "ipython3",
   "version": "3.7.10"
  }
 },
 "nbformat": 4,
 "nbformat_minor": 5
}
