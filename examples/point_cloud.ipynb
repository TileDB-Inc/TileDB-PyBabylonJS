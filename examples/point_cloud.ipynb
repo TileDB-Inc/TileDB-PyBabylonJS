{
 "cells": [
  {
   "cell_type": "code",
   "execution_count": null,
   "id": "9c3469f7-b9c0-4fc2-a142-46cd0fd2ae45",
   "metadata": {},
   "outputs": [],
   "source": [
    "import os\n",
    "import json\n",
    "import requests\n",
    "\n",
    "import pandas as pd\n",
    "import rasterio\n",
    "from rasterio.coords import BoundingBox\n",
    "from rasterio.warp import transform_bounds\n",
    "import pdal\n",
    "import pybabylonjs\n",
    "from pybabylonjs import Show as show\n",
    "import tiledb"
   ]
  },
  {
   "cell_type": "code",
   "execution_count": null,
   "id": "00dac7f4-ce98-4ecd-b2dc-050749fb92f9",
   "metadata": {},
   "outputs": [],
   "source": [
    "pybabylonjs.__version__"
   ]
  },
  {
   "cell_type": "markdown",
   "id": "cc1939af-2756-4186-8622-4f30b5b26d49",
   "metadata": {},
   "source": [
    "## Create a sparse TileDB array from a LAZ file"
   ]
  },
  {
   "cell_type": "code",
   "execution_count": null,
   "id": "fb1f30f8-6c05-48c2-b1af-574ae76e1252",
   "metadata": {},
   "outputs": [],
   "source": [
    "!wget -nc \"https://github.com/PDAL/data/blob/master/autzen/autzen-classified.laz?raw=true\" -O \"autzen-classified.laz\""
   ]
  },
  {
   "cell_type": "code",
   "execution_count": null,
   "id": "a29673a4-798f-444c-915b-ab4bd4a2be21",
   "metadata": {},
   "outputs": [],
   "source": [
    "pipeline = (\n",
    "  pdal.Reader(\"autzen-classified.laz\") |\n",
    "  pdal.Filter.stats() |\n",
    "  pdal.Writer.tiledb(array_name=\"autzen-classified\",chunk_size=100000)\n",
    ")\n",
    "\n",
    "count = pipeline.execute()  "
   ]
  },
  {
   "cell_type": "code",
   "execution_count": null,
   "id": "39fef3ab-8669-4897-a3fb-73ee3bf12b4a",
   "metadata": {},
   "outputs": [],
   "source": [
    "lidar_array = \"autzen-classified\""
   ]
  },
  {
   "cell_type": "markdown",
   "id": "22aa9555-41c0-491d-8f36-1ecaf1c21122",
   "metadata": {},
   "source": [
    "## Default point cloud"
   ]
  },
  {
   "cell_type": "code",
   "execution_count": null,
   "id": "b9c04560-76f4-41b3-a658-a9b4f23c15eb",
   "metadata": {},
   "outputs": [],
   "source": [
    "bbox = {\n",
    "    'X': [636800, 637800],\n",
    "    'Y': [851000, 853000],\n",
    "    'Z': [406.14, 615.26]\n",
    "}\n",
    "\n",
    "show.point_cloud(source=\"local\",\n",
    "                 mode=\"default\",\n",
    "                 uri=lidar_array,\n",
    "                 bbox=bbox)"
   ]
  },
  {
   "cell_type": "code",
   "execution_count": null,
   "id": "0411028b-7a61-4f5c-b1f1-76ab9c1977aa",
   "metadata": {},
   "outputs": [],
   "source": [
    "# optional parameters\n",
    "\n",
    "show.point_cloud(source=\"local\",\n",
    "                mode=\"default\",\n",
    "                uri=lidar_array,\n",
    "                bbox=bbox,\n",
    "                inspector=False,\n",
    "                width=900,\n",
    "                height=500,\n",
    "                z_scale=2,\n",
    "                wheel_precision=-1,\n",
    "                point_size=2\n",
    "                )"
   ]
  },
  {
   "cell_type": "markdown",
   "id": "89ef6545-2b5d-4573-8230-03a59e054023",
   "metadata": {},
   "source": [
    "## Point cloud with a time slider"
   ]
  },
  {
   "cell_type": "code",
   "execution_count": null,
   "id": "1b111330-4a66-44b9-8e7b-8c4043cb6994",
   "metadata": {},
   "outputs": [],
   "source": [
    "show.point_cloud(source=\"local\",\n",
    "                 mode=\"time\",\n",
    "                 uri=lidar_array,\n",
    "                 bbox=bbox)"
   ]
  },
  {
   "cell_type": "markdown",
   "id": "0d5cb85d-bf73-4d93-8112-c92e491453e8",
   "metadata": {},
   "source": [
    "## Point cloud with a classification slider"
   ]
  },
  {
   "cell_type": "code",
   "execution_count": null,
   "id": "8d0e893c-df37-42da-874d-221b3c76a2d7",
   "metadata": {},
   "outputs": [],
   "source": [
    "classes = {\n",
    "    'numbers': [0,2,5,6,9,15,17,19,64,65,66,67,68,69,70,71,72,73,74,75,76,77],\n",
    "    'names': ['None','Ground','Vegetation','Building','Water','Transmission Tower',\n",
    "               'Bridge Deck','Overhead Structure','Wire','Car','Truck','Boat',\n",
    "               'Barrier','Railroad car','Elevated Walkway','Covered Walkway',\n",
    "               'Pier/Dock','Fence','Tower','Crane','Silo/Storage Tank','Bridge Structure']\n",
    "}\n",
    "\n",
    "show.point_cloud(source=\"local\",\n",
    "                 mode=\"classes\",\n",
    "                 uri=lidar_array,\n",
    "                 bbox=bbox,\n",
    "                 classes=classes)"
   ]
  },
  {
   "cell_type": "code",
   "execution_count": null,
   "id": "d34d6799-57e1-42a7-93dc-b9b195fb28d2",
   "metadata": {},
   "outputs": [],
   "source": []
  }
 ],
 "metadata": {
  "kernelspec": {
   "display_name": "Python 3 (ipykernel)",
   "language": "python",
   "name": "python3"
  },
  "language_info": {
   "codemirror_mode": {
    "name": "ipython",
    "version": 3
   },
   "file_extension": ".py",
   "mimetype": "text/x-python",
   "name": "python",
   "nbconvert_exporter": "python",
   "pygments_lexer": "ipython3",
   "version": "3.7.10"
  }
 },
 "nbformat": 4,
 "nbformat_minor": 5
}
