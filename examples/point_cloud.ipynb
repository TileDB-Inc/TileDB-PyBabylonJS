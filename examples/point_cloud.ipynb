{
 "cells": [
  {
   "cell_type": "code",
   "execution_count": 1,
   "id": "9c3469f7-b9c0-4fc2-a142-46cd0fd2ae45",
   "metadata": {},
   "outputs": [],
   "source": [
    "import os\n",
    "import json\n",
    "import requests\n",
    "\n",
    "import pandas as pd\n",
    "import rasterio\n",
    "from rasterio.coords import BoundingBox\n",
    "from rasterio.warp import transform_bounds\n",
    "import pdal\n",
    "import pybabylonjs\n",
    "from pybabylonjs import Show as show\n",
    "import tiledb"
   ]
  },
  {
   "cell_type": "code",
   "execution_count": 2,
   "id": "00dac7f4-ce98-4ecd-b2dc-050749fb92f9",
   "metadata": {},
   "outputs": [
    {
     "data": {
      "text/plain": [
       "'1.0.6'"
      ]
     },
     "execution_count": 2,
     "metadata": {},
     "output_type": "execute_result"
    }
   ],
   "source": [
    "pybabylonjs.__version__"
   ]
  },
  {
   "cell_type": "markdown",
   "id": "cc1939af-2756-4186-8622-4f30b5b26d49",
   "metadata": {},
   "source": [
    "## Create a sparse TileDB array from a LAZ file"
   ]
  },
  {
   "cell_type": "code",
   "execution_count": 3,
   "id": "fb1f30f8-6c05-48c2-b1af-574ae76e1252",
   "metadata": {},
   "outputs": [
    {
     "name": "stdout",
     "output_type": "stream",
     "text": [
      "File ‘autzen-classified.laz’ already there; not retrieving.\n"
     ]
    }
   ],
   "source": [
    "!wget -nc \"https://github.com/PDAL/data/blob/master/autzen/autzen-classified.laz?raw=true\" -O \"autzen-classified.laz\""
   ]
  },
  {
   "cell_type": "code",
   "execution_count": 4,
   "id": "a29673a4-798f-444c-915b-ab4bd4a2be21",
   "metadata": {},
   "outputs": [
    {
     "ename": "TileDBError",
     "evalue": "[TileDB::StorageManager] Error: Cannot create array; Array 'file:///home/vander/code/TileDB/TileDB-PyBabylonJS/examples/autzen-classified' already exists",
     "output_type": "error",
     "traceback": [
      "\u001b[0;31m---------------------------------------------------------------------------\u001b[0m",
      "\u001b[0;31mTileDBError\u001b[0m                               Traceback (most recent call last)",
      "\u001b[0;32m/tmp/ipykernel_48506/379899166.py\u001b[0m in \u001b[0;36m<module>\u001b[0;34m\u001b[0m\n\u001b[1;32m      5\u001b[0m )\n\u001b[1;32m      6\u001b[0m \u001b[0;34m\u001b[0m\u001b[0m\n\u001b[0;32m----> 7\u001b[0;31m \u001b[0mcount\u001b[0m \u001b[0;34m=\u001b[0m \u001b[0mpipeline\u001b[0m\u001b[0;34m.\u001b[0m\u001b[0mexecute\u001b[0m\u001b[0;34m(\u001b[0m\u001b[0;34m)\u001b[0m\u001b[0;34m\u001b[0m\u001b[0;34m\u001b[0m\u001b[0m\n\u001b[0m",
      "\u001b[0;31mTileDBError\u001b[0m: [TileDB::StorageManager] Error: Cannot create array; Array 'file:///home/vander/code/TileDB/TileDB-PyBabylonJS/examples/autzen-classified' already exists"
     ]
    }
   ],
   "source": [
    "pipeline = (\n",
    "  pdal.Reader(\"autzen-classified.laz\") |\n",
    "  pdal.Filter.stats() |\n",
    "  pdal.Writer.tiledb(array_name=\"autzen-classified\",chunk_size=100000)\n",
    ")\n",
    "\n",
    "count = pipeline.execute()  "
   ]
  },
  {
   "cell_type": "code",
   "execution_count": 3,
   "id": "39fef3ab-8669-4897-a3fb-73ee3bf12b4a",
   "metadata": {},
   "outputs": [],
   "source": [
    "lidar_array = \"autzen-classified\""
   ]
  },
  {
   "cell_type": "markdown",
   "id": "22aa9555-41c0-491d-8f36-1ecaf1c21122",
   "metadata": {},
   "source": [
    "## Default point cloud"
   ]
  },
  {
   "cell_type": "code",
   "execution_count": 4,
   "id": "b9c04560-76f4-41b3-a658-a9b4f23c15eb",
   "metadata": {},
   "outputs": [
    {
     "data": {
      "application/vnd.jupyter.widget-view+json": {
       "model_id": "e43eee58b3154ef0bde8f730faed83f7",
       "version_major": 2,
       "version_minor": 0
      },
      "text/plain": [
       "BabylonPointCloud(value={'inspector': False, 'width': 800, 'height': 600, 'z_scale': 1, 'wheel_precision': 0.1…"
      ]
     },
     "metadata": {},
     "output_type": "display_data"
    }
   ],
   "source": [
    "bbox = {\n",
    "    'X': [636800, 637800],\n",
    "    'Y': [851000, 853000],\n",
    "    'Z': [406.14, 615.26]\n",
    "}\n",
    "\n",
    "show.point_cloud(source=\"local\",\n",
    "                 mode=\"default\",\n",
    "                 uri=lidar_array,\n",
    "                 bbox=bbox,\n",
    "                 wheel_precision = 0.1\n",
    "                )"
   ]
  },
  {
   "cell_type": "code",
   "execution_count": 5,
   "id": "d34d6799-57e1-42a7-93dc-b9b195fb28d2",
   "metadata": {},
   "outputs": [],
   "source": [
    "show.cmd(info = { \"cmd\": \"add_pointcloud\", \"px\": 0, \"py\": 0, \"pz\": 0, \"source\": \"local\", \"mode\": \"default\", \"point_size\": 2, \"uri\": lidar_array, \"bbox\": bbox })"
   ]
  },
  {
   "cell_type": "code",
   "execution_count": null,
   "id": "2e3b444e-9c4c-4775-96de-03b417798cd3",
   "metadata": {},
   "outputs": [],
   "source": []
  },
  {
   "cell_type": "code",
   "execution_count": null,
   "id": "97da0242-2521-4813-b7ca-1af05a3c54b4",
   "metadata": {},
   "outputs": [],
   "source": []
  }
 ],
 "metadata": {
  "kernelspec": {
   "display_name": "Python 3",
   "language": "python",
   "name": "python3"
  },
  "language_info": {
   "codemirror_mode": {
    "name": "ipython",
    "version": 3
   },
   "file_extension": ".py",
   "mimetype": "text/x-python",
   "name": "python",
   "nbconvert_exporter": "python",
   "pygments_lexer": "ipython3",
   "version": "3.7.10"
  }
 },
 "nbformat": 4,
 "nbformat_minor": 5
}
