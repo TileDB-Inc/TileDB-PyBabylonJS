{
 "cells": [
  {
   "cell_type": "markdown",
   "id": "b69d7104-541f-474d-b30d-06a83c4d120e",
   "metadata": {},
   "source": [
    "# GLTF -> TileDB demo\n",
    "\n",
    "We will start by importing the required libraries;"
   ]
  },
  {
   "cell_type": "code",
   "execution_count": 1,
   "id": "c9da5366-077c-40c8-b136-816ee9ddab9c",
   "metadata": {},
   "outputs": [],
   "source": [
    "import json\n",
    "import numpy as np\n",
    "from pybabylonjs import Show as show\n",
    "import tiledb"
   ]
  },
  {
   "cell_type": "markdown",
   "id": "570ce59b-1968-439b-ae7e-f9a4840031dd",
   "metadata": {},
   "source": [
    "The BabylonJS viewer reads GLTF so we will read the FBX file as a GLTF model"
   ]
  },
  {
   "cell_type": "code",
   "execution_count": 2,
   "id": "b73aebb0-fed5-4b62-b87a-9d2c9d94bf0f",
   "metadata": {},
   "outputs": [],
   "source": [
    "with open(\"gltf/farmhouse.gltf\") as f:\n",
    "    gltf_data = f.read()"
   ]
  },
  {
   "cell_type": "markdown",
   "id": "f4839324-1a52-408f-a25b-1771235a38ec",
   "metadata": {},
   "source": [
    "Create a point cloud ground surface for this building"
   ]
  },
  {
   "cell_type": "code",
   "execution_count": 3,
   "id": "8530408b-6d1c-4ca8-97ce-be8dc98b2450",
   "metadata": {},
   "outputs": [],
   "source": [
    "# create surface for model\n",
    "(minx, maxx), (miny, maxy), (minz, maxz) = ((-400, 400), (-400, 400), (-5, 25))\n",
    "num_vals = 500000\n",
    "\n",
    "xs = np.random.default_rng().uniform(minx, maxx, num_vals)\n",
    "ys = np.random.default_rng().uniform(miny, maxy, num_vals)\n",
    "zs = np.random.default_rng().uniform(minz, maxz, num_vals)\n",
    "\n",
    "data = {\n",
    "    \"X\": xs,\n",
    "    \"Y\": ys,\n",
    "    \"Z\": zs,\n",
    "    \"Red\": np.random.default_rng().uniform(0., 1., num_vals),\n",
    "    \"Green\": np.random.default_rng().uniform(0., 1., num_vals),\n",
    "    \"Blue\": np.random.default_rng().uniform(0., 1., num_vals)\n",
    "}"
   ]
  },
  {
   "cell_type": "markdown",
   "id": "99f1d235-a073-47b8-9ae6-a0b5a1730cc0",
   "metadata": {},
   "source": [
    "And render;"
   ]
  },
  {
   "cell_type": "code",
   "execution_count": 4,
   "id": "36c4d496-2bf8-40e0-92ca-944d08c9c191",
   "metadata": {},
   "outputs": [
    {
     "data": {
      "application/vnd.jupyter.widget-view+json": {
       "model_id": "946146e5160a4d458ddb7e6d0f087f0a",
       "version_major": 2,
       "version_minor": 0
      },
      "text/plain": [
       "BabylonPointCloud(value={'inspector': False, 'width': 800, 'height': 600, 'z_scale': 1, 'wheel_precision': -1,…"
      ]
     },
     "metadata": {},
     "output_type": "display_data"
    }
   ],
   "source": [
    "show.point_cloud(source='dict',\n",
    "                 mode=\"gltf\",\n",
    "                 data=data,\n",
    "                 gltf_data = gltf_data,\n",
    "                 point_size = 4)"
   ]
  },
  {
   "cell_type": "code",
   "execution_count": 5,
   "id": "8df1d99b-c32b-4622-995b-fa45e4ad7162",
   "metadata": {},
   "outputs": [],
   "source": [
    "show.add_model(gltf_data = gltf_data)"
   ]
  },
  {
   "cell_type": "code",
   "execution_count": null,
   "id": "0244000d-ceaa-4acc-9375-86582c92cb5d",
   "metadata": {},
   "outputs": [],
   "source": []
  }
 ],
 "metadata": {
  "kernelspec": {
   "display_name": "Python 3",
   "language": "python",
   "name": "python3"
  },
  "language_info": {
   "codemirror_mode": {
    "name": "ipython",
    "version": 3
   },
   "file_extension": ".py",
   "mimetype": "text/x-python",
   "name": "python",
   "nbconvert_exporter": "python",
   "pygments_lexer": "ipython3",
   "version": "3.7.10"
  }
 },
 "nbformat": 4,
 "nbformat_minor": 5
}
