{
 "cells": [
  {
   "cell_type": "markdown",
   "id": "b69d7104-541f-474d-b30d-06a83c4d120e",
   "metadata": {},
   "source": [
    "# GLTF -> TileDB demo\n",
    "\n",
    "We will start by importing the required libraries;"
   ]
  },
  {
   "cell_type": "code",
   "execution_count": null,
   "id": "c9da5366-077c-40c8-b136-816ee9ddab9c",
   "metadata": {},
   "outputs": [],
   "source": [
    "import json\n",
    "import numpy as np\n",
    "from pybabylonjs import Show as show\n",
    "import tiledb"
   ]
  },
  {
   "cell_type": "markdown",
   "id": "570ce59b-1968-439b-ae7e-f9a4840031dd",
   "metadata": {},
   "source": [
    "The BabylonJS viewer reads GLTF so we will read the FBX file as a GLTF model"
   ]
  },
  {
   "cell_type": "code",
   "execution_count": null,
   "id": "b73aebb0-fed5-4b62-b87a-9d2c9d94bf0f",
   "metadata": {},
   "outputs": [],
   "source": [
    "with open(\"gltf/farmhouse.gltf\") as f:\n",
    "    gltf_data = f.read()"
   ]
  },
  {
   "cell_type": "markdown",
   "id": "f4839324-1a52-408f-a25b-1771235a38ec",
   "metadata": {},
   "source": [
    "Create a point cloud ground surface for this building"
   ]
  },
  {
   "cell_type": "code",
   "execution_count": null,
   "id": "8530408b-6d1c-4ca8-97ce-be8dc98b2450",
   "metadata": {},
   "outputs": [],
   "source": [
    "# create surface for model\n",
    "(minx, maxx), (miny, maxy), (minz, maxz) = ((-80, 80), (-150, 150), (-30, 40))\n",
    "extent = 50.\n",
    "num_vals = 1000\n",
    "\n",
    "xs = np.random.default_rng().uniform(minx - extent, maxx + extent, num_vals)\n",
    "ys = np.random.default_rng().uniform(miny - extent, maxy + extent, num_vals)\n",
    "zs = np.random.default_rng().uniform(-5., 0., num_vals)\n",
    "\n",
    "data = {\n",
    "    \"X\": xs,\n",
    "    \"Y\": ys,\n",
    "    \"Z\": zs,\n",
    "    \"Red\": np.random.default_rng().uniform(0., 1., num_vals),\n",
    "    \"Green\": np.random.default_rng().uniform(0., 1., num_vals),\n",
    "    \"Blue\": np.random.default_rng().uniform(0., 1., num_vals)\n",
    "}"
   ]
  },
  {
   "cell_type": "markdown",
   "id": "99f1d235-a073-47b8-9ae6-a0b5a1730cc0",
   "metadata": {},
   "source": [
    "And render;"
   ]
  },
  {
   "cell_type": "code",
   "execution_count": null,
   "id": "36c4d496-2bf8-40e0-92ca-944d08c9c191",
   "metadata": {},
   "outputs": [],
   "source": [
    "show.from_dict(data=data,\n",
    "               style = 'pointcloud',\n",
    "               gltf_data = gltf_data,\n",
    "               point_size = 5)"
   ]
  }
 ],
 "metadata": {
  "kernelspec": {
   "display_name": "Python 3 (ipykernel)",
   "language": "python",
   "name": "python3"
  },
  "language_info": {
   "codemirror_mode": {
    "name": "ipython",
    "version": 3
   },
   "file_extension": ".py",
   "mimetype": "text/x-python",
   "name": "python",
   "nbconvert_exporter": "python",
   "pygments_lexer": "ipython3",
   "version": "3.10.2"
  }
 },
 "nbformat": 4,
 "nbformat_minor": 5
}
