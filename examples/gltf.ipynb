{
 "cells": [
  {
   "cell_type": "markdown",
   "id": "b69d7104-541f-474d-b30d-06a83c4d120e",
   "metadata": {},
   "source": [
    "# GLTF -> TileDB demo\n",
    "\n",
    "We will start by importing the required libraries;"
   ]
  },
  {
   "cell_type": "code",
   "execution_count": 1,
   "id": "c9da5366-077c-40c8-b136-816ee9ddab9c",
   "metadata": {},
   "outputs": [],
   "source": [
    "import json\n",
    "import numpy as np\n",
    "from pybabylonjs import Show as show\n",
    "import tiledb"
   ]
  },
  {
   "cell_type": "markdown",
   "id": "570ce59b-1968-439b-ae7e-f9a4840031dd",
   "metadata": {},
   "source": [
    "The BabylonJS viewer reads GLTF so we will read the FBX file as a GLTF model"
   ]
  },
  {
   "cell_type": "code",
   "execution_count": 2,
   "id": "b73aebb0-fed5-4b62-b87a-9d2c9d94bf0f",
   "metadata": {},
   "outputs": [],
   "source": [
    "with open(\"gltf/farmhouse.gltf\") as f:\n",
    "    gltf_data = f.read()"
   ]
  },
  {
   "cell_type": "markdown",
   "id": "f4839324-1a52-408f-a25b-1771235a38ec",
   "metadata": {},
   "source": [
    "Create a point cloud ground surface for this building"
   ]
  },
  {
   "cell_type": "code",
   "execution_count": 3,
   "id": "8530408b-6d1c-4ca8-97ce-be8dc98b2450",
   "metadata": {},
   "outputs": [],
   "source": [
    "# create surface for model\n",
    "(minx, maxx), (miny, maxy), (minz, maxz) = ((-400, 400), (-400, 400), (-5, 25))\n",
    "num_vals = 32768\n",
    "\n",
    "xs = np.random.default_rng().uniform(minx, maxx, num_vals)\n",
    "ys = np.random.default_rng().uniform(miny, maxy, num_vals)\n",
    "zs = np.random.default_rng().uniform(minz, maxz, num_vals)\n",
    "\n",
    "data = {\n",
    "    \"X\": xs,\n",
    "    \"Y\": ys,\n",
    "    \"Z\": zs,\n",
    "    \"Red\": np.random.default_rng().uniform(0., 1., num_vals),\n",
    "    \"Green\": np.random.default_rng().uniform(0., 1., num_vals),\n",
    "    \"Blue\": np.random.default_rng().uniform(0., 1., num_vals)\n",
    "}"
   ]
  },
  {
   "cell_type": "markdown",
   "id": "99f1d235-a073-47b8-9ae6-a0b5a1730cc0",
   "metadata": {},
   "source": [
    "And render;"
   ]
  },
  {
   "cell_type": "code",
   "execution_count": 4,
   "id": "36c4d496-2bf8-40e0-92ca-944d08c9c191",
   "metadata": {},
   "outputs": [
    {
     "data": {
      "application/vnd.jupyter.widget-view+json": {
       "model_id": "42600d2544dd42e99ab1dee9b26955ca",
       "version_major": 2,
       "version_minor": 0
      },
      "text/plain": [
       "BabylonPointCloud(value={'inspector': False, 'width': 800, 'height': 600, 'z_scale': 1, 'wheel_precision': 0.5…"
      ]
     },
     "metadata": {},
     "output_type": "display_data"
    }
   ],
   "source": [
    "show.point_cloud(source='dict',\n",
    "                 mode=\"gltf\",\n",
    "                 data=data,\n",
    "                 gltf_data = gltf_data,\n",
    "                 wheel_precision = 0.5\n",
    "                )"
   ]
  },
  {
   "cell_type": "code",
   "execution_count": 5,
   "id": "7f38a2d4-06db-405c-8646-5b4900c0b107",
   "metadata": {},
   "outputs": [],
   "source": [
    "show.cmd(info = { \"cmd\": \"add_pointcloud\", \"px\": -450, \"py\": 0, \"pz\": 0, \"source\": \"dict\", \"mode\": \"default\", \"point_size\": 1, \"data\": data })\n",
    "show.cmd(info = { \"cmd\": \"add_pointcloud\", \"px\": 450, \"py\": 0, \"pz\": 0, \"source\": \"dict\", \"mode\": \"default\", \"point_size\": 1, \"data\": data })"
   ]
  },
  {
   "cell_type": "code",
   "execution_count": 6,
   "id": "15afb0e9-4247-402c-9c42-ca19c9bd6f27",
   "metadata": {},
   "outputs": [],
   "source": [
    "show.cmd(info = { \"cmd\": \"add_model\", \"source\": \"dict\", \"mode\": \"gltf\", \"px\": 200, \"py\": 50, \"pz\": 0, \"rx\": 0, \"ry\": 15, \"rz\": 0, \"sx\": 1, \"sy\": 1, \"sz\": 1, \"data\": gltf_data })\n",
    "show.cmd(info = { \"cmd\": \"add_model\", \"source\": \"dict\", \"mode\": \"gltf\", \"px\": -200, \"py\": -50, \"pz\": 0, \"rx\": 0, \"ry\": 0, \"rz\": 0, \"sx\": 1, \"sy\": 1, \"sz\": 1, \"data\": gltf_data })"
   ]
  },
  {
   "cell_type": "code",
   "execution_count": null,
   "id": "d8332ed2-55e7-4ea5-99d2-d0b431633d27",
   "metadata": {},
   "outputs": [],
   "source": []
  },
  {
   "cell_type": "code",
   "execution_count": null,
   "id": "2610247a-02fb-48d4-b531-eb8f074ce867",
   "metadata": {},
   "outputs": [],
   "source": []
  },
  {
   "cell_type": "code",
   "execution_count": null,
   "id": "8103e2be-3d7e-4918-a07e-29aa0fc7bdfe",
   "metadata": {},
   "outputs": [],
   "source": []
  },
  {
   "cell_type": "code",
   "execution_count": null,
   "id": "63d6435b-e444-4271-bfae-5fbb3d67f4d0",
   "metadata": {},
   "outputs": [],
   "source": []
  },
  {
   "cell_type": "code",
   "execution_count": null,
   "id": "480aa09c-bb5b-413f-bb8b-9e4fcdb5aa53",
   "metadata": {},
   "outputs": [],
   "source": []
  }
 ],
 "metadata": {
  "kernelspec": {
   "display_name": "Python 3",
   "language": "python",
   "name": "python3"
  },
  "language_info": {
   "codemirror_mode": {
    "name": "ipython",
    "version": 3
   },
   "file_extension": ".py",
   "mimetype": "text/x-python",
   "name": "python",
   "nbconvert_exporter": "python",
   "pygments_lexer": "ipython3",
   "version": "3.7.10"
  }
 },
 "nbformat": 4,
 "nbformat_minor": 5
}
