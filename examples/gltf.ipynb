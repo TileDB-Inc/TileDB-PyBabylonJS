{
 "cells": [
  {
   "cell_type": "markdown",
   "id": "b69d7104-541f-474d-b30d-06a83c4d120e",
   "metadata": {},
   "source": [
    "# GLTF -> TileDB demo\n",
    "\n",
    "We will start by importing the required libraries;"
   ]
  },
  {
   "cell_type": "code",
   "execution_count": 1,
   "id": "c9da5366-077c-40c8-b136-816ee9ddab9c",
   "metadata": {},
   "outputs": [],
   "source": [
    "import json\n",
    "import numpy as np\n",
    "from pybabylonjs import Show as show\n",
    "import tiledb"
   ]
  },
  {
   "cell_type": "markdown",
   "id": "570ce59b-1968-439b-ae7e-f9a4840031dd",
   "metadata": {},
   "source": [
    "The BabylonJS viewer reads GLTF so we will read the FBX file as a GLTF model"
   ]
  },
  {
   "cell_type": "code",
   "execution_count": 2,
   "id": "b73aebb0-fed5-4b62-b87a-9d2c9d94bf0f",
   "metadata": {},
   "outputs": [],
   "source": [
    "with open(\"gltf/farmhouse.gltf\") as f:\n",
    "    gltf_data = f.read()"
   ]
  },
  {
   "cell_type": "markdown",
   "id": "f4839324-1a52-408f-a25b-1771235a38ec",
   "metadata": {},
   "source": [
    "Create a point cloud ground surface for this building"
   ]
  },
  {
   "cell_type": "code",
   "execution_count": 3,
   "id": "8530408b-6d1c-4ca8-97ce-be8dc98b2450",
   "metadata": {},
   "outputs": [],
   "source": [
    "# create surface for model\n",
    "(minx, maxx), (miny, maxy), (minz, maxz) = ((-400, 400), (-400, 400), (-5, 25))\n",
    "num_vals = 32768\n",
    "\n",
    "xs = np.random.default_rng().uniform(minx, maxx, num_vals)\n",
    "ys = np.random.default_rng().uniform(miny, maxy, num_vals)\n",
    "zs = np.random.default_rng().uniform(minz, maxz, num_vals)\n",
    "\n",
    "data = {\n",
    "    \"X\": xs,\n",
    "    \"Y\": ys,\n",
    "    \"Z\": zs,\n",
    "    \"Red\": np.random.default_rng().uniform(0., 1., num_vals),\n",
    "    \"Green\": np.random.default_rng().uniform(0., 1., num_vals),\n",
    "    \"Blue\": np.random.default_rng().uniform(0., 1., num_vals)\n",
    "}"
   ]
  },
  {
   "cell_type": "markdown",
   "id": "99f1d235-a073-47b8-9ae6-a0b5a1730cc0",
   "metadata": {},
   "source": [
    "And render;"
   ]
  },
  {
   "cell_type": "code",
   "execution_count": 4,
   "id": "36c4d496-2bf8-40e0-92ca-944d08c9c191",
   "metadata": {},
   "outputs": [
    {
     "data": {
      "application/vnd.jupyter.widget-view+json": {
       "model_id": "e7f03fefc457460ba0aaf6fd77fd3419",
       "version_major": 2,
       "version_minor": 0
      },
      "text/plain": [
       "BabylonPointCloud(value={'inspector': False, 'width': 800, 'height': 600, 'z_scale': 1, 'wheel_precision': 0.5…"
      ]
     },
     "metadata": {},
     "output_type": "display_data"
    }
   ],
   "source": [
    "show.point_cloud(source='dict',\n",
    "                 mode=\"gltf\",\n",
    "                 data=data,\n",
    "                 gltf_data = gltf_data,\n",
    "                 wheel_precision = 0.5\n",
    "                )"
   ]
  },
  {
   "cell_type": "code",
   "execution_count": 5,
   "id": "7f38a2d4-06db-405c-8646-5b4900c0b107",
   "metadata": {},
   "outputs": [],
   "source": [
    "show.cmd(info = { \"cmd\": \"add_pointcloud\", \"px\": -450, \"py\": 0, \"pz\": 0, \"source\": \"dict\", \"mode\": \"gltf\", \"point_size\": 1, \"data\": data })\n",
    "show.cmd(info = { \"cmd\": \"add_pointcloud\", \"px\": 450, \"py\": 0, \"pz\": 0, \"source\": \"dict\", \"mode\": \"gltf\", \"point_size\": 1, \"data\": data })"
   ]
  },
  {
   "cell_type": "code",
   "execution_count": 6,
   "id": "15afb0e9-4247-402c-9c42-ca19c9bd6f27",
   "metadata": {},
   "outputs": [],
   "source": [
    "show.cmd(info = { \"cmd\": \"add_model\", \"px\": 200, \"py\": 50, \"pz\": 0, \"rx\": 0, \"ry\": 15, \"rz\": 0, \"sx\": 1, \"sy\": 1, \"sz\": 1, \"gltf_data\": gltf_data })\n",
    "show.cmd(info = { \"cmd\": \"add_model\", \"px\": -200, \"py\": -50, \"pz\": 0, \"rx\": 0, \"ry\": 0, \"rz\": 0, \"sx\": 1, \"sy\": 1, \"sz\": 1, \"gltf_data\": gltf_data })"
   ]
  },
  {
   "cell_type": "code",
   "execution_count": 4,
   "id": "4a33a447-8d8c-4e6c-9c89-3d1893d815ad",
   "metadata": {},
   "outputs": [
    {
     "ename": "ValueError",
     "evalue": "The bbox for slicing data from autzen-classified is not specified",
     "output_type": "error",
     "traceback": [
      "\u001b[0;31m---------------------------------------------------------------------------\u001b[0m",
      "\u001b[0;31mValueError\u001b[0m                                Traceback (most recent call last)",
      "\u001b[0;32m/tmp/ipykernel_9899/2250341050.py\u001b[0m in \u001b[0;36m<module>\u001b[0;34m\u001b[0m\n\u001b[1;32m      2\u001b[0m show.point_cloud(source=\"local\",\n\u001b[1;32m      3\u001b[0m                  \u001b[0mmode\u001b[0m\u001b[0;34m=\u001b[0m\u001b[0;34m\"default\"\u001b[0m\u001b[0;34m,\u001b[0m\u001b[0;34m\u001b[0m\u001b[0;34m\u001b[0m\u001b[0m\n\u001b[0;32m----> 4\u001b[0;31m                  \u001b[0muri\u001b[0m\u001b[0;34m=\u001b[0m\u001b[0mlidar_array\u001b[0m\u001b[0;34m\u001b[0m\u001b[0;34m\u001b[0m\u001b[0m\n\u001b[0m\u001b[1;32m      5\u001b[0m                  )\n",
      "\u001b[0;32m~/code/TileDB/TileDB-PyBabylonJS/pybabylonjs/show.py\u001b[0m in \u001b[0;36mpoint_cloud\u001b[0;34m(self, uri, data, source, mode, **kwargs)\u001b[0m\n\u001b[1;32m     59\u001b[0m             \u001b[0mdata\u001b[0m \u001b[0;34m=\u001b[0m \u001b[0mcheck_point_cloud_data_dict\u001b[0m\u001b[0;34m(\u001b[0m\u001b[0mmode\u001b[0m\u001b[0;34m,\u001b[0m \u001b[0mdata\u001b[0m\u001b[0;34m)\u001b[0m\u001b[0;34m\u001b[0m\u001b[0;34m\u001b[0m\u001b[0m\n\u001b[1;32m     60\u001b[0m         \u001b[0;32mif\u001b[0m \u001b[0msource\u001b[0m \u001b[0;34m==\u001b[0m \u001b[0;34m\"local\"\u001b[0m\u001b[0;34m:\u001b[0m\u001b[0;34m\u001b[0m\u001b[0;34m\u001b[0m\u001b[0m\n\u001b[0;32m---> 61\u001b[0;31m             \u001b[0mdata\u001b[0m \u001b[0;34m=\u001b[0m \u001b[0mcheck_point_cloud_data_local\u001b[0m\u001b[0;34m(\u001b[0m\u001b[0mmode\u001b[0m\u001b[0;34m,\u001b[0m \u001b[0muri\u001b[0m\u001b[0;34m,\u001b[0m \u001b[0mkwargs\u001b[0m\u001b[0;34m)\u001b[0m\u001b[0;34m\u001b[0m\u001b[0;34m\u001b[0m\u001b[0m\n\u001b[0m\u001b[1;32m     62\u001b[0m         \u001b[0;32mif\u001b[0m \u001b[0msource\u001b[0m \u001b[0;34m==\u001b[0m \u001b[0;34m\"cloud\"\u001b[0m\u001b[0;34m:\u001b[0m\u001b[0;34m\u001b[0m\u001b[0;34m\u001b[0m\u001b[0m\n\u001b[1;32m     63\u001b[0m             \u001b[0mcheck_point_cloud_data_cloud\u001b[0m\u001b[0;34m(\u001b[0m\u001b[0mkwargs\u001b[0m\u001b[0;34m)\u001b[0m\u001b[0;34m\u001b[0m\u001b[0;34m\u001b[0m\u001b[0m\n",
      "\u001b[0;32m~/code/TileDB/TileDB-PyBabylonJS/pybabylonjs/args.py\u001b[0m in \u001b[0;36mcheck_point_cloud_data_local\u001b[0;34m(mode, uri, kwargs)\u001b[0m\n\u001b[1;32m     90\u001b[0m         \u001b[0;32mraise\u001b[0m \u001b[0mValueError\u001b[0m\u001b[0;34m(\u001b[0m\u001b[0;34m\"uri: \"\u001b[0m \u001b[0;34m+\u001b[0m \u001b[0muri\u001b[0m \u001b[0;34m+\u001b[0m \u001b[0;34m\" does not exist.\"\u001b[0m\u001b[0;34m)\u001b[0m\u001b[0;34m\u001b[0m\u001b[0;34m\u001b[0m\u001b[0m\n\u001b[1;32m     91\u001b[0m     \u001b[0;32mif\u001b[0m \u001b[0;32mnot\u001b[0m \u001b[0;34m\"bbox\"\u001b[0m \u001b[0;32min\u001b[0m \u001b[0mkwargs\u001b[0m\u001b[0;34m:\u001b[0m\u001b[0;34m\u001b[0m\u001b[0;34m\u001b[0m\u001b[0m\n\u001b[0;32m---> 92\u001b[0;31m         \u001b[0;32mraise\u001b[0m \u001b[0mValueError\u001b[0m\u001b[0;34m(\u001b[0m\u001b[0;34m\"The bbox for slicing data from \"\u001b[0m \u001b[0;34m+\u001b[0m \u001b[0muri\u001b[0m \u001b[0;34m+\u001b[0m \u001b[0;34m\" is not specified\"\u001b[0m\u001b[0;34m)\u001b[0m\u001b[0;34m\u001b[0m\u001b[0;34m\u001b[0m\u001b[0m\n\u001b[0m\u001b[1;32m     93\u001b[0m \u001b[0;34m\u001b[0m\u001b[0m\n\u001b[1;32m     94\u001b[0m     \u001b[0mdata\u001b[0m \u001b[0;34m=\u001b[0m \u001b[0mcreate_point_cloud\u001b[0m\u001b[0;34m(\u001b[0m\u001b[0mmode\u001b[0m\u001b[0;34m,\u001b[0m \u001b[0muri\u001b[0m\u001b[0;34m,\u001b[0m \u001b[0mkwargs\u001b[0m\u001b[0;34m)\u001b[0m\u001b[0;34m\u001b[0m\u001b[0;34m\u001b[0m\u001b[0m\n",
      "\u001b[0;31mValueError\u001b[0m: The bbox for slicing data from autzen-classified is not specified"
     ]
    }
   ],
   "source": [
    "lidar_array = \"autzen-classified\"\n",
    "show.point_cloud(source=\"local\",\n",
    "                 mode=\"default\",\n",
    "                 uri=lidar_array\n",
    "                 )"
   ]
  },
  {
   "cell_type": "code",
   "execution_count": null,
   "id": "d8332ed2-55e7-4ea5-99d2-d0b431633d27",
   "metadata": {},
   "outputs": [],
   "source": []
  }
 ],
 "metadata": {
  "kernelspec": {
   "display_name": "Python 3",
   "language": "python",
   "name": "python3"
  },
  "language_info": {
   "codemirror_mode": {
    "name": "ipython",
    "version": 3
   },
   "file_extension": ".py",
   "mimetype": "text/x-python",
   "name": "python",
   "nbconvert_exporter": "python",
   "pygments_lexer": "ipython3",
   "version": "3.7.10"
  }
 },
 "nbformat": 4,
 "nbformat_minor": 5
}
