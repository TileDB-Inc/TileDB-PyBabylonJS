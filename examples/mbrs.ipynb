{
 "cells": [
  {
   "cell_type": "code",
   "execution_count": 1,
   "id": "17cbb019-803e-42cd-bd47-6ebf72b70ba5",
   "metadata": {},
   "outputs": [],
   "source": [
    "import os\n",
    "import pdal\n",
    "import pybabylonjs\n",
    "from pybabylonjs import Show as show\n",
    "import tiledb"
   ]
  },
  {
   "cell_type": "code",
   "execution_count": 2,
   "id": "ee8f4ea7-1b51-43d9-ab4d-189149f40831",
   "metadata": {},
   "outputs": [
    {
     "data": {
      "text/plain": [
       "'1.0.6'"
      ]
     },
     "execution_count": 2,
     "metadata": {},
     "output_type": "execute_result"
    }
   ],
   "source": [
    "pybabylonjs.__version__"
   ]
  },
  {
   "cell_type": "markdown",
   "id": "376c7606-efde-45b5-b512-39b6987fbbf2",
   "metadata": {},
   "source": [
    "### Download LAZ file to be ingested into a TileDB sparse array"
   ]
  },
  {
   "cell_type": "code",
   "execution_count": 3,
   "id": "5e7a8ef6-3ca9-4928-91b4-2d30c605f1ce",
   "metadata": {},
   "outputs": [
    {
     "name": "stdout",
     "output_type": "stream",
     "text": [
      "File ‘autzen.laz’ already there; not retrieving.\n"
     ]
    }
   ],
   "source": [
    "!wget -nc \"https://github.com/PDAL/data/blob/master/workshop/autzen.laz?raw=true\" -O \"autzen.laz\""
   ]
  },
  {
   "cell_type": "markdown",
   "id": "d773f2df-9307-476e-b8d4-6ec0ba953ad0",
   "metadata": {},
   "source": [
    "### Ingest the LiDAR data into a sparse array\n",
    "\n",
    "The difference between the arrays is the size of the parameter `chunk_size`"
   ]
  },
  {
   "cell_type": "code",
   "execution_count": 4,
   "id": "152c15a0-1e1e-48f1-a3bb-36a49671307b",
   "metadata": {},
   "outputs": [],
   "source": [
    "pipeline1 = (\n",
    "  pdal.Reader(\"autzen.laz\") |\n",
    "  pdal.Filter.stats() |\n",
    "  pdal.Writer.tiledb(array_name=\"autzen1\",chunk_size=10000000)\n",
    ")\n",
    "\n",
    "if not os.path.isdir('autzen1'):\n",
    "    count = pipeline1.execute()  "
   ]
  },
  {
   "cell_type": "code",
   "execution_count": 5,
   "id": "62bc383e-bcc9-4178-b6ad-db7c74ffbbcc",
   "metadata": {},
   "outputs": [],
   "source": [
    "pipeline2 = (\n",
    "  pdal.Reader(\"autzen.laz\") |\n",
    "  pdal.Filter.stats() |\n",
    "  pdal.Writer.tiledb(array_name=\"autzen2\",chunk_size=100000)\n",
    ")\n",
    "\n",
    "if not os.path.isdir('autzen2'):\n",
    "    count = pipeline2.execute()  "
   ]
  },
  {
   "cell_type": "markdown",
   "id": "8fce1435-d6b6-4a9d-b961-c36416375a0e",
   "metadata": {},
   "source": [
    "### MBRS\n",
    "\n",
    "Detailed information about the fragments in the array is read with:"
   ]
  },
  {
   "cell_type": "code",
   "execution_count": 6,
   "id": "a1ab85de-9b78-4073-b402-a944a5c960e4",
   "metadata": {},
   "outputs": [],
   "source": [
    "fragments_info1 = tiledb.array_fragments(\"autzen1\", include_mbrs=True)"
   ]
  },
  {
   "cell_type": "code",
   "execution_count": 7,
   "id": "72f06ff1-d5e6-4d4f-af82-d551bbd1389e",
   "metadata": {},
   "outputs": [
    {
     "data": {
      "text/plain": [
       "((635591.89, 637295.5700000001),\n",
       " (849290.29, 853419.3200000001),\n",
       " (406.14, 408.99))"
      ]
     },
     "execution_count": 7,
     "metadata": {},
     "output_type": "execute_result"
    }
   ],
   "source": [
    "fragments_info1.mbrs[0][0]"
   ]
  },
  {
   "cell_type": "markdown",
   "id": "55af65e5-27e3-46ed-acc9-a4780d1edf5b",
   "metadata": {},
   "source": [
    "### Visualizing the MBRS of the sparse arrays\n",
    "\n",
    "MBRs are the minimum bounding rectangles of the fragments and can be displayed for a sparse array containing point cloud data:\n",
    "\n",
    "```python\n",
    "from pybabylonjs import Show as show\n",
    "\n",
    "show.from_array()\n",
    "```\n",
    "\n",
    "The following parameters need to be provided:\n",
    "\n",
    "* `array_uri` [string] is the name of the TileDB array \n",
    "* `style='mbrs'` [string] specifies the name of the data visualzion style\n",
    "\n",
    "Optional parameters:\n",
    "\n",
    "* `width` is the width of the visualization\n",
    "* `height` is the height of the visualization\n",
    "* `z_scale` is a scaling factor for the 'z' axis\n",
    "\n",
    "For the sparse array created above this is:"
   ]
  },
  {
   "cell_type": "code",
   "execution_count": 8,
   "id": "e81beca5-ce98-49e4-84c8-39c57c5c5465",
   "metadata": {},
   "outputs": [
    {
     "data": {
      "application/vnd.jupyter.widget-view+json": {
       "model_id": "75a1273a923c4367b10ea9cea0668ebf",
       "version_major": 2,
       "version_minor": 0
      },
      "text/plain": [
       "BabylonMBRS(value={'extents': [635577.79, 639003.73, 848882.15, 853537.66, 406.14, 615.26], 'data': {'Xmin': 0…"
      ]
     },
     "metadata": {},
     "output_type": "display_data"
    }
   ],
   "source": [
    "show.from_array(array_uri='autzen2',\n",
    "                style='mbrs',\n",
    "                width=1200,\n",
    "                height=800,\n",
    "                z_scale = 5,\n",
    "                inspector = True)"
   ]
  },
  {
   "cell_type": "code",
   "execution_count": null,
   "id": "f9efccb1-d40d-4558-a40e-b34d4251748c",
   "metadata": {},
   "outputs": [],
   "source": []
  },
  {
   "cell_type": "code",
   "execution_count": null,
   "id": "8ae32c81-9477-468f-99ad-05aec081673d",
   "metadata": {},
   "outputs": [],
   "source": []
  },
  {
   "cell_type": "code",
   "execution_count": null,
   "id": "521ea941-dbea-4e5c-8ade-e59f80078c99",
   "metadata": {},
   "outputs": [],
   "source": []
  }
 ],
 "metadata": {
  "kernelspec": {
   "display_name": "Python 3 (ipykernel)",
   "language": "python",
   "name": "python3"
  },
  "language_info": {
   "codemirror_mode": {
    "name": "ipython",
    "version": 3
   },
   "file_extension": ".py",
   "mimetype": "text/x-python",
   "name": "python",
   "nbconvert_exporter": "python",
   "pygments_lexer": "ipython3",
   "version": "3.7.10"
  }
 },
 "nbformat": 4,
 "nbformat_minor": 5
}
