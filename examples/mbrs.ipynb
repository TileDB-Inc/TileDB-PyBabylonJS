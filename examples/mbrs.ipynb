{
 "cells": [
  {
   "cell_type": "code",
   "execution_count": null,
   "id": "17cbb019-803e-42cd-bd47-6ebf72b70ba5",
   "metadata": {},
   "outputs": [],
   "source": [
    "import os\n",
    "import pdal\n",
    "from pybabylonjs import Show as show\n",
    "import tiledb"
   ]
  },
  {
   "cell_type": "markdown",
   "id": "376c7606-efde-45b5-b512-39b6987fbbf2",
   "metadata": {},
   "source": [
    "## Create a sparse TileDB array from a LAZ file"
   ]
  },
  {
   "cell_type": "code",
   "execution_count": null,
   "id": "5e7a8ef6-3ca9-4928-91b4-2d30c605f1ce",
   "metadata": {},
   "outputs": [],
   "source": [
    "!wget -nc \"https://github.com/PDAL/data/blob/master/autzen/autzen-classified.laz?raw=true\" -O \"autzen-classified.laz\""
   ]
  },
  {
   "cell_type": "code",
   "execution_count": null,
   "id": "c5056df5-e59d-4c41-8d4a-a32672d3122a",
   "metadata": {},
   "outputs": [],
   "source": [
    "pipeline = (\n",
    "  pdal.Reader(\"autzen-classified.laz\") |\n",
    "  pdal.Filter.stats() |\n",
    "  pdal.Writer.tiledb(array_name=\"autzen-classified\",chunk_size=100000)\n",
    ")\n",
    "\n",
    "count = pipeline.execute() "
   ]
  },
  {
   "cell_type": "code",
   "execution_count": null,
   "id": "0d9b6426-dce5-4c37-b5b8-889a547bc114",
   "metadata": {},
   "outputs": [],
   "source": [
    "lidar_array = \"autzen-classified\""
   ]
  },
  {
   "cell_type": "markdown",
   "id": "8fce1435-d6b6-4a9d-b961-c36416375a0e",
   "metadata": {},
   "source": [
    "### MBRS visualization\n",
    "\n",
    "Detailed information about the fragments in the array is read with:"
   ]
  },
  {
   "cell_type": "code",
   "execution_count": null,
   "id": "a1ab85de-9b78-4073-b402-a944a5c960e4",
   "metadata": {},
   "outputs": [],
   "source": [
    "fragments_info1 = tiledb.array_fragments(lidar_array, include_mbrs=True)"
   ]
  },
  {
   "cell_type": "code",
   "execution_count": null,
   "id": "72f06ff1-d5e6-4d4f-af82-d551bbd1389e",
   "metadata": {},
   "outputs": [],
   "source": [
    "fragments_info1.mbrs[0][0]"
   ]
  },
  {
   "cell_type": "code",
   "execution_count": null,
   "id": "e81beca5-ce98-49e4-84c8-39c57c5c5465",
   "metadata": {},
   "outputs": [],
   "source": [
    "show.mbrs(array_uri=lidar_array,\n",
    "                width=1200,\n",
    "                height=800,\n",
    "                z_scale = 5)"
   ]
  },
  {
   "cell_type": "code",
   "execution_count": null,
   "id": "f9efccb1-d40d-4558-a40e-b34d4251748c",
   "metadata": {},
   "outputs": [],
   "source": []
  },
  {
   "cell_type": "code",
   "execution_count": null,
   "id": "8ae32c81-9477-468f-99ad-05aec081673d",
   "metadata": {},
   "outputs": [],
   "source": []
  },
  {
   "cell_type": "code",
   "execution_count": null,
   "id": "521ea941-dbea-4e5c-8ade-e59f80078c99",
   "metadata": {},
   "outputs": [],
   "source": []
  }
 ],
 "metadata": {
  "kernelspec": {
   "display_name": "Python 3 (ipykernel)",
   "language": "python",
   "name": "python3"
  },
  "language_info": {
   "codemirror_mode": {
    "name": "ipython",
    "version": 3
   },
   "file_extension": ".py",
   "mimetype": "text/x-python",
   "name": "python",
   "nbconvert_exporter": "python",
   "pygments_lexer": "ipython3",
   "version": "3.7.10"
  }
 },
 "nbformat": 4,
 "nbformat_minor": 5
}
