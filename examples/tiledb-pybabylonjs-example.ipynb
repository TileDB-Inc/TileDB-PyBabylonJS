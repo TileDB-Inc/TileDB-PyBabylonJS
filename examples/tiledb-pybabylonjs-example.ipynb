{
 "cells": [
  {
   "cell_type": "code",
   "execution_count": 1,
   "id": "9c3469f7-b9c0-4fc2-a142-46cd0fd2ae45",
   "metadata": {},
   "outputs": [],
   "source": [
    "import json\n",
    "import shutil\n",
    "\n",
    "import numpy as np\n",
    "import pandas as pd\n",
    "from mpl_toolkits.mplot3d import Axes3D\n",
    "import matplotlib.pyplot as plt\n",
    "\n",
    "import tiledb\n",
    "import pdal\n",
    "from pybabylonjs import Show as show"
   ]
  },
  {
   "cell_type": "markdown",
   "id": "b94bcde6-4f4d-45be-8559-48c3accf194c",
   "metadata": {},
   "source": [
    "Download the data used in this example by uncommenting and running the next cell:"
   ]
  },
  {
   "cell_type": "code",
   "execution_count": 2,
   "id": "033b0092-e7d0-4c2b-a79e-fb36b2352bcf",
   "metadata": {},
   "outputs": [],
   "source": [
    "#!wget -nc \"https://github.com/PDAL/data/blob/master/workshop/autzen.laz?raw=true\" -O \"autzen.laz\""
   ]
  },
  {
   "cell_type": "markdown",
   "id": "90f60075-0936-43a4-9a99-8e2d0ba0723f",
   "metadata": {},
   "source": [
    "Delete arrays from previous runs:"
   ]
  },
  {
   "cell_type": "code",
   "execution_count": 3,
   "id": "8b3c3003-c77d-439a-86d0-2ea8f5c69529",
   "metadata": {},
   "outputs": [],
   "source": [
    "try:\n",
    "    shutil.rmtree(\"autzen\")\n",
    "    pass\n",
    "except:\n",
    "    pass"
   ]
  },
  {
   "cell_type": "markdown",
   "id": "b084b127-5ba5-48a0-b1ed-68aeb573634e",
   "metadata": {},
   "source": [
    "Create and run a PDAL pipeline that ingest the data from the LAZ file into a TileDB sparse array:"
   ]
  },
  {
   "cell_type": "code",
   "execution_count": 4,
   "id": "eea2cf7b-aa73-4006-90a9-3d635dbf9368",
   "metadata": {},
   "outputs": [],
   "source": [
    "pipeline1 = (\n",
    "  pdal.Reader(\"autzen.laz\") |\n",
    "  pdal.Filter.stats() |\n",
    "  pdal.Writer.tiledb(array_name=\"autzen\",chunk_size=10000000)\n",
    ")\n",
    "\n",
    "count = pipeline1.execute()  "
   ]
  },
  {
   "cell_type": "markdown",
   "id": "de9e6471-4cf1-4c93-8824-8d04a3539722",
   "metadata": {},
   "source": [
    "## 3D Point Cloud\n",
    "\n",
    "Load a slice from the LiDAR point cloud data and create dictionary for the data to be visualized:"
   ]
  },
  {
   "cell_type": "code",
   "execution_count": 5,
   "id": "dc3566a9-e81a-40a1-810d-0dc81c9ea4a4",
   "metadata": {},
   "outputs": [],
   "source": [
    "with tiledb.open(\"autzen1\") as arr:\n",
    "    df = pd.DataFrame(arr[636800:637800, 851000:853000, 406.14:615.26])\n",
    "\n",
    "data = {\n",
    "    'X': df['X'],\n",
    "    'Y': df['Y'],\n",
    "    'Z': df['Z'],\n",
    "    'Red': df['Red'] / 255.0,\n",
    "    'Green': df['Green'] / 255.0,\n",
    "    'Blue': df['Blue'] / 255.0\n",
    "}"
   ]
  },
  {
   "cell_type": "markdown",
   "id": "27631790-0c40-47ad-a067-8d1f6f4a7132",
   "metadata": {},
   "source": [
    "Visualize the 3D point cloud with `pybabylonjs.Show.from_dict()` by specifying the `style` to use, the `width` and `height` of the frame and the scaling factor `z_scale` of the z-axis:"
   ]
  },
  {
   "cell_type": "code",
   "execution_count": 6,
   "id": "943b6fe7-cbab-49f1-a3b7-75146016567f",
   "metadata": {},
   "outputs": [
    {
     "data": {
      "application/vnd.jupyter.widget-view+json": {
       "model_id": "dc33c5b6cd50481d882f9a0d13f43237",
       "version_major": 2,
       "version_minor": 0
      },
      "text/plain": [
       "BabylonPC(value={'style': 'pointcloud', 'width': 800, 'height': 600, 'z_scale': 0.3, 'wheel_precision': 50, 'e…"
      ]
     },
     "metadata": {},
     "output_type": "display_data"
    }
   ],
   "source": [
    "show.from_dict(data=data,\n",
    "                      style = 'pointcloud',\n",
    "                        width = 800,\n",
    "                        height = 600,\n",
    "                        z_scale = .3)"
   ]
  },
  {
   "cell_type": "markdown",
   "id": "1b7231d5-7082-4ec2-a4a2-fb04895c2a6f",
   "metadata": {},
   "source": [
    "## Minimum bounding Rectangle\n",
    "\n",
    "The minimum bounding rectangle (MBR) of a data tile is a rectangle in the logical view of the array that tightly includes all the non-empty cells whose values are stored in that data tile. All tiles in a sparse array whose MBRs intersect a read query’s subarray are read from disk. Choosing the space tiles in a way that the shape of the resulting MBR’s is similar to the read access patterns can improve read performance, since fewer MBRs may then overlap with the typical read query. \n",
    "\n",
    "The MBRS visualisation is a helpful tool to inspect the MBRS of a sparse array.\n",
    "\n",
    "### Default sorting\n",
    "\n",
    "Visualize the above array that was created using default parameters. This visualization is created by specifying the `array`, the style as `mbrs` and optional `height` and `width` parameters:"
   ]
  },
  {
   "cell_type": "code",
   "execution_count": 7,
   "id": "037e8ec7-37b1-4e3c-9c0b-712c0f1372d2",
   "metadata": {},
   "outputs": [
    {
     "data": {
      "application/vnd.jupyter.widget-view+json": {
       "model_id": "776fca9c5136471b9b8902cbb9f6b130",
       "version_major": 2,
       "version_minor": 0
      },
      "text/plain": [
       "BabylonMBRS(value={'style': 'mbrs', 'width': 800, 'height': 600, 'z_scale': 0.5, 'wheel_precision': 50, 'exten…"
      ]
     },
     "metadata": {},
     "output_type": "display_data"
    }
   ],
   "source": [
    "show.from_array(array='autzen',\n",
    "                               style='mbrs',\n",
    "                               width=800,\n",
    "                               height=600,\n",
    "                               z_scale = 0.5)"
   ]
  },
  {
   "cell_type": "markdown",
   "id": "b49c98e6-9582-4d59-8b2b-f9470031a228",
   "metadata": {},
   "source": [
    "Create and visualize second array where the chuck size is decreased to 100000:"
   ]
  },
  {
   "cell_type": "code",
   "execution_count": 9,
   "id": "c4f1ddad-3940-4526-b313-e84fdfc3cd69",
   "metadata": {},
   "outputs": [],
   "source": [
    "pipeline2 = (\n",
    "  pdal.Reader(\"autzen.laz\") |\n",
    "  pdal.Filter.stats() |\n",
    "  pdal.Writer.tiledb(array_name=\"autzen2\",chunk_size=100000)\n",
    ")\n",
    "\n",
    "count = pipeline2.execute()  "
   ]
  },
  {
   "cell_type": "code",
   "execution_count": 10,
   "id": "eb48f633-ee0f-4568-8b8d-25d7fdb2ae74",
   "metadata": {},
   "outputs": [
    {
     "data": {
      "application/vnd.jupyter.widget-view+json": {
       "model_id": "1180f61d25874ec28baf8eba345e2325",
       "version_major": 2,
       "version_minor": 0
      },
      "text/plain": [
       "BabylonMBRS(value={'style': 'mbrs', 'width': 800, 'height': 600, 'z_scale': 0.2, 'wheel_precision': 50, 'exten…"
      ]
     },
     "metadata": {},
     "output_type": "display_data"
    }
   ],
   "source": [
    "show.from_array(array='autzen2',\n",
    "                               style='mbrs',\n",
    "                               width=800,\n",
    "                               height=600,\n",
    "                               z_scale = 0.2)"
   ]
  },
  {
   "cell_type": "markdown",
   "id": "3d66a1f1-74e4-430d-9c52-f6c8a66f0227",
   "metadata": {},
   "source": [
    "## Loading data speed\n",
    "\n",
    "Read data from both arrays to explore the effect of the MBRS distribution:"
   ]
  },
  {
   "cell_type": "code",
   "execution_count": 11,
   "id": "fb82f1e1-7934-4b04-b041-051f16f38cfa",
   "metadata": {},
   "outputs": [
    {
     "name": "stdout",
     "output_type": "stream",
     "text": [
      "CPU times: user 4.18 s, sys: 1.63 s, total: 5.8 s\n",
      "Wall time: 1.02 s\n"
     ]
    }
   ],
   "source": [
    "%%time\n",
    "with tiledb.open(\"autzen\") as arr:\n",
    "    df = pd.DataFrame(arr[636800:637800, 851000:853000, 406.14:615.26])"
   ]
  },
  {
   "cell_type": "code",
   "execution_count": 12,
   "id": "9d8688a4-962a-4b07-a98a-0a3b08811e87",
   "metadata": {},
   "outputs": [
    {
     "name": "stdout",
     "output_type": "stream",
     "text": [
      "CPU times: user 1.28 s, sys: 1.02 s, total: 2.3 s\n",
      "Wall time: 442 ms\n"
     ]
    }
   ],
   "source": [
    "%%time\n",
    "with tiledb.open(\"autzen2\") as arr:\n",
    "    df = pd.DataFrame(arr[636800:637800, 851000:853000, 406.14:615.26])"
   ]
  },
  {
   "cell_type": "markdown",
   "id": "31991f11-8592-4d46-abf7-53c11adf4776",
   "metadata": {},
   "source": [
    "## 4D Point Cloud "
   ]
  },
  {
   "cell_type": "code",
   "execution_count": 13,
   "id": "5e5e2e47-055d-424f-9e24-e0945d790e04",
   "metadata": {},
   "outputs": [
    {
     "name": "stdout",
     "output_type": "stream",
     "text": [
      "CPU times: user 1.26 s, sys: 997 ms, total: 2.25 s\n",
      "Wall time: 511 ms\n"
     ]
    }
   ],
   "source": [
    "%%time\n",
    "with tiledb.open(\"autzen5\") as arr:\n",
    "    df = pd.DataFrame(arr[636800:637800, 851000:853000, 406.14:615.26])\n",
    "\n",
    "data = {\n",
    "    'X': df['X'],\n",
    "    'Y': df['Y'],\n",
    "    'Z': df['Z'],\n",
    "    'Red': df['Red'] / 255.0,\n",
    "    'Green': df['Green'] / 255.0,\n",
    "    'Blue': df['Blue'] / 255.0,\n",
    "    'GpsTime': df['GpsTime']}"
   ]
  },
  {
   "cell_type": "code",
   "execution_count": 14,
   "id": "fb71bf0d-fb22-43fc-925e-96c8c5814a25",
   "metadata": {},
   "outputs": [
    {
     "data": {
      "application/vnd.jupyter.widget-view+json": {
       "model_id": "6a3ff0abc47f4ee7a556bb6165ee0954",
       "version_major": 2,
       "version_minor": 0
      },
      "text/plain": [
       "BabylonPC(value={'style': 'pointcloud', 'width': 800, 'height': 600, 'z_scale': 0.2, 'wheel_precision': 50, 'e…"
      ]
     },
     "metadata": {},
     "output_type": "display_data"
    }
   ],
   "source": [
    "show.from_dict(data=data,\n",
    "                      style = 'pointcloud',\n",
    "                        width = 800,\n",
    "                        height = 600,\n",
    "                        z_scale = .2,\n",
    "                        time = True)"
   ]
  },
  {
   "cell_type": "code",
   "execution_count": null,
   "id": "883976ac-ccb9-4c52-8fe2-3c8e62814f04",
   "metadata": {},
   "outputs": [],
   "source": []
  },
  {
   "cell_type": "code",
   "execution_count": null,
   "id": "d85176ad-37b7-4c9e-90db-27b2eedaedf7",
   "metadata": {},
   "outputs": [],
   "source": []
  }
 ],
 "metadata": {
  "kernelspec": {
   "display_name": "Python 3 (ipykernel)",
   "language": "python",
   "name": "python3"
  },
  "language_info": {
   "codemirror_mode": {
    "name": "ipython",
    "version": 3
   },
   "file_extension": ".py",
   "mimetype": "text/x-python",
   "name": "python",
   "nbconvert_exporter": "python",
   "pygments_lexer": "ipython3",
   "version": "3.7.10"
  }
 },
 "nbformat": 4,
 "nbformat_minor": 5
}
