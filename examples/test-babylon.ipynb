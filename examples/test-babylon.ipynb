{
 "cells": [
  {
   "cell_type": "code",
   "execution_count": 1,
   "id": "9c3469f7-b9c0-4fc2-a142-46cd0fd2ae45",
   "metadata": {},
   "outputs": [],
   "source": [
    "import json\n",
    "import shutil\n",
    "\n",
    "import numpy as np\n",
    "import pandas as pd\n",
    "from mpl_toolkits.mplot3d import Axes3D\n",
    "import matplotlib.pyplot as plt\n",
    "\n",
    "import tiledb\n",
    "import pdal\n",
    "from pybabylonjs import Show as show"
   ]
  },
  {
   "cell_type": "code",
   "execution_count": 2,
   "id": "033b0092-e7d0-4c2b-a79e-fb36b2352bcf",
   "metadata": {},
   "outputs": [],
   "source": [
    "#!wget -nc \"https://github.com/PDAL/data/blob/master/workshop/autzen.laz?raw=true\" -O \"autzen.laz\""
   ]
  },
  {
   "cell_type": "code",
   "execution_count": 3,
   "id": "8b3c3003-c77d-439a-86d0-2ea8f5c69529",
   "metadata": {},
   "outputs": [],
   "source": [
    "#try:\n",
    "#    shutil.rmtree(\"autzen\")\n",
    "#    pass\n",
    "#except:\n",
    "#    pass"
   ]
  },
  {
   "cell_type": "code",
   "execution_count": 4,
   "id": "eea2cf7b-aa73-4006-90a9-3d635dbf9368",
   "metadata": {},
   "outputs": [],
   "source": [
    "pipeline1 = (\n",
    "  pdal.Reader(\"autzen.laz\") |\n",
    "  pdal.Filter.stats() |\n",
    "  pdal.Writer.tiledb(array_name=\"autzen1\",chunk_size=10000000)\n",
    ")\n",
    "\n",
    "# count = pipeline1.execute()  "
   ]
  },
  {
   "cell_type": "code",
   "execution_count": 5,
   "id": "4927ac24-91c5-4275-86e5-61224a6259cf",
   "metadata": {},
   "outputs": [],
   "source": [
    "pipeline2 = (\n",
    "  pdal.Reader(\"autzen.laz\") | \n",
    "  pdal.Writer.tiledb(array_name=\"autzen2\",x_tile_size=10, y_tile_size=10, z_tile_size=1,chunk_size=10000000)\n",
    ")\n",
    "\n",
    "# count = pipeline2.execute() "
   ]
  },
  {
   "cell_type": "code",
   "execution_count": 6,
   "id": "3594fcd2-3c74-41d0-88f8-8103d5b1f6c1",
   "metadata": {},
   "outputs": [],
   "source": [
    "pipeline3 = (\n",
    "  pdal.Reader(\"autzen.laz\") |\n",
    "  pdal.Filter.stats() |\n",
    "  pdal.Writer.tiledb(array_name=\"autzen3\",chunk_size=10000000,data_tile_capacity=100000)\n",
    ")\n",
    "\n",
    "# count = pipeline3.execute()  "
   ]
  },
  {
   "cell_type": "code",
   "execution_count": 7,
   "id": "57d2d89c-42fe-4f59-88b5-ca10b3bf1238",
   "metadata": {},
   "outputs": [],
   "source": [
    "pipeline4 = (\n",
    "  pdal.Reader(\"autzen.laz\") |\n",
    "  pdal.Filter.stats() |\n",
    "  pdal.Writer.tiledb(array_name=\"autzen4\",chunk_size=100000,data_tile_capacity=100000)\n",
    ")\n",
    "\n",
    "# count = pipeline4.execute()  "
   ]
  },
  {
   "cell_type": "code",
   "execution_count": 8,
   "id": "1e2e9320-009a-4b09-af7d-81281dac0763",
   "metadata": {},
   "outputs": [],
   "source": [
    "pipeline5 = (\n",
    "  pdal.Reader(\"autzen.laz\") |\n",
    "  pdal.Filter.stats() |\n",
    "  pdal.Writer.tiledb(array_name=\"autzen5\",chunk_size=100000)\n",
    ")\n",
    "\n",
    "# count = pipeline5.execute()  "
   ]
  },
  {
   "cell_type": "markdown",
   "id": "de9e6471-4cf1-4c93-8824-8d04a3539722",
   "metadata": {},
   "source": [
    "## Point cloud"
   ]
  },
  {
   "cell_type": "code",
   "execution_count": 9,
   "id": "dc3566a9-e81a-40a1-810d-0dc81c9ea4a4",
   "metadata": {},
   "outputs": [
    {
     "name": "stdout",
     "output_type": "stream",
     "text": [
      "CPU times: user 10.1 s, sys: 704 ms, total: 10.8 s\n",
      "Wall time: 1.16 s\n"
     ]
    },
    {
     "data": {
      "text/html": [
       "<div>\n",
       "<style scoped>\n",
       "    .dataframe tbody tr th:only-of-type {\n",
       "        vertical-align: middle;\n",
       "    }\n",
       "\n",
       "    .dataframe tbody tr th {\n",
       "        vertical-align: top;\n",
       "    }\n",
       "\n",
       "    .dataframe thead th {\n",
       "        text-align: right;\n",
       "    }\n",
       "</style>\n",
       "<table border=\"1\" class=\"dataframe\">\n",
       "  <thead>\n",
       "    <tr style=\"text-align: right;\">\n",
       "      <th></th>\n",
       "      <th>Intensity</th>\n",
       "      <th>ReturnNumber</th>\n",
       "      <th>NumberOfReturns</th>\n",
       "      <th>ScanDirectionFlag</th>\n",
       "      <th>EdgeOfFlightLine</th>\n",
       "      <th>Classification</th>\n",
       "      <th>ScanAngleRank</th>\n",
       "      <th>UserData</th>\n",
       "      <th>PointSourceId</th>\n",
       "      <th>GpsTime</th>\n",
       "      <th>Red</th>\n",
       "      <th>Green</th>\n",
       "      <th>Blue</th>\n",
       "      <th>X</th>\n",
       "      <th>Y</th>\n",
       "      <th>Z</th>\n",
       "    </tr>\n",
       "  </thead>\n",
       "  <tbody>\n",
       "    <tr>\n",
       "      <th>0</th>\n",
       "      <td>1</td>\n",
       "      <td>1</td>\n",
       "      <td>1</td>\n",
       "      <td>1</td>\n",
       "      <td>0</td>\n",
       "      <td>2</td>\n",
       "      <td>-1.0</td>\n",
       "      <td>122</td>\n",
       "      <td>7331</td>\n",
       "      <td>248289.538944</td>\n",
       "      <td>111</td>\n",
       "      <td>112</td>\n",
       "      <td>98</td>\n",
       "      <td>637475.45</td>\n",
       "      <td>851804.30</td>\n",
       "      <td>415.49</td>\n",
       "    </tr>\n",
       "    <tr>\n",
       "      <th>1</th>\n",
       "      <td>1</td>\n",
       "      <td>1</td>\n",
       "      <td>1</td>\n",
       "      <td>1</td>\n",
       "      <td>0</td>\n",
       "      <td>2</td>\n",
       "      <td>10.0</td>\n",
       "      <td>122</td>\n",
       "      <td>7332</td>\n",
       "      <td>248680.116914</td>\n",
       "      <td>114</td>\n",
       "      <td>119</td>\n",
       "      <td>113</td>\n",
       "      <td>637174.99</td>\n",
       "      <td>852014.95</td>\n",
       "      <td>415.49</td>\n",
       "    </tr>\n",
       "    <tr>\n",
       "      <th>2</th>\n",
       "      <td>1</td>\n",
       "      <td>1</td>\n",
       "      <td>1</td>\n",
       "      <td>0</td>\n",
       "      <td>0</td>\n",
       "      <td>2</td>\n",
       "      <td>-12.0</td>\n",
       "      <td>124</td>\n",
       "      <td>7330</td>\n",
       "      <td>247564.723623</td>\n",
       "      <td>134</td>\n",
       "      <td>136</td>\n",
       "      <td>113</td>\n",
       "      <td>637371.69</td>\n",
       "      <td>851840.65</td>\n",
       "      <td>415.51</td>\n",
       "    </tr>\n",
       "    <tr>\n",
       "      <th>3</th>\n",
       "      <td>1</td>\n",
       "      <td>1</td>\n",
       "      <td>1</td>\n",
       "      <td>0</td>\n",
       "      <td>0</td>\n",
       "      <td>2</td>\n",
       "      <td>0.0</td>\n",
       "      <td>124</td>\n",
       "      <td>7331</td>\n",
       "      <td>248288.150659</td>\n",
       "      <td>138</td>\n",
       "      <td>145</td>\n",
       "      <td>124</td>\n",
       "      <td>637244.90</td>\n",
       "      <td>851873.25</td>\n",
       "      <td>415.51</td>\n",
       "    </tr>\n",
       "    <tr>\n",
       "      <th>4</th>\n",
       "      <td>1</td>\n",
       "      <td>1</td>\n",
       "      <td>1</td>\n",
       "      <td>1</td>\n",
       "      <td>0</td>\n",
       "      <td>2</td>\n",
       "      <td>-11.0</td>\n",
       "      <td>124</td>\n",
       "      <td>7330</td>\n",
       "      <td>247565.570015</td>\n",
       "      <td>112</td>\n",
       "      <td>114</td>\n",
       "      <td>108</td>\n",
       "      <td>637169.48</td>\n",
       "      <td>851998.29</td>\n",
       "      <td>415.51</td>\n",
       "    </tr>\n",
       "  </tbody>\n",
       "</table>\n",
       "</div>"
      ],
      "text/plain": [
       "   Intensity  ReturnNumber  NumberOfReturns  ScanDirectionFlag  \\\n",
       "0          1             1                1                  1   \n",
       "1          1             1                1                  1   \n",
       "2          1             1                1                  0   \n",
       "3          1             1                1                  0   \n",
       "4          1             1                1                  1   \n",
       "\n",
       "   EdgeOfFlightLine  Classification  ScanAngleRank  UserData  PointSourceId  \\\n",
       "0                 0               2           -1.0       122           7331   \n",
       "1                 0               2           10.0       122           7332   \n",
       "2                 0               2          -12.0       124           7330   \n",
       "3                 0               2            0.0       124           7331   \n",
       "4                 0               2          -11.0       124           7330   \n",
       "\n",
       "         GpsTime  Red  Green  Blue          X          Y       Z  \n",
       "0  248289.538944  111    112    98  637475.45  851804.30  415.49  \n",
       "1  248680.116914  114    119   113  637174.99  852014.95  415.49  \n",
       "2  247564.723623  134    136   113  637371.69  851840.65  415.51  \n",
       "3  248288.150659  138    145   124  637244.90  851873.25  415.51  \n",
       "4  247565.570015  112    114   108  637169.48  851998.29  415.51  "
      ]
     },
     "execution_count": 9,
     "metadata": {},
     "output_type": "execute_result"
    }
   ],
   "source": [
    "%%time\n",
    "with tiledb.open(\"autzen1\") as arr:\n",
    "    df = pd.DataFrame(arr[636800:637800, 851000:853000, 406.14:615.26])\n",
    "\n",
    "df.head()"
   ]
  },
  {
   "cell_type": "code",
   "execution_count": 10,
   "id": "b1d0d80b-212f-4aa8-9b64-e2106e73ddc4",
   "metadata": {},
   "outputs": [],
   "source": [
    "data = {\n",
    "    'X': df['X'],\n",
    "    'Y': df['Y'],\n",
    "    'Z': df['Z'],\n",
    "    'Red': df['Red'] / 255.0,\n",
    "    'Green': df['Green'] / 255.0,\n",
    "    'Blue': df['Blue'] / 255.0\n",
    "}"
   ]
  },
  {
   "cell_type": "code",
   "execution_count": 11,
   "id": "943b6fe7-cbab-49f1-a3b7-75146016567f",
   "metadata": {},
   "outputs": [
    {
     "name": "stdout",
     "output_type": "stream",
     "text": [
      "BEFORE VALIDATE\n",
      "{'style': 'pointcloud', 'width': 800, 'height': 600, 'z_scale': 0.2, 'wheel_precision': '50', 'extents': [636800.02, 637798.9700000001, 851000.03, 852998.97, 415.49, 598.15], 'time': None, 'data': {'X': 0          637475.45\n",
      "1          637174.99\n",
      "2          637371.69\n",
      "3          637244.90\n",
      "4          637169.48\n",
      "             ...    \n",
      "1309350    637640.48\n",
      "1309351    637614.80\n",
      "1309352    637295.63\n",
      "1309353    637296.25\n",
      "1309354    637296.25\n",
      "Name: X, Length: 1309355, dtype: float64, 'Y': 0          851804.30\n",
      "1          852014.95\n",
      "2          851840.65\n",
      "3          851873.25\n",
      "4          851998.29\n",
      "             ...    \n",
      "1309350    852997.90\n",
      "1309351    852997.76\n",
      "1309352    852997.59\n",
      "1309353    852998.12\n",
      "1309354    852998.79\n",
      "Name: Y, Length: 1309355, dtype: float64, 'Z': 0          415.49\n",
      "1          415.49\n",
      "2          415.51\n",
      "3          415.51\n",
      "4          415.51\n",
      "            ...  \n",
      "1309350    471.46\n",
      "1309351    471.59\n",
      "1309352    472.11\n",
      "1309353    472.34\n",
      "1309354    473.06\n",
      "Name: Z, Length: 1309355, dtype: float64, 'Red': 0          0.435294\n",
      "1          0.447059\n",
      "2          0.525490\n",
      "3          0.541176\n",
      "4          0.439216\n",
      "             ...   \n",
      "1309350    0.772549\n",
      "1309351    0.388235\n",
      "1309352    0.627451\n",
      "1309353    0.627451\n",
      "1309354    0.650980\n",
      "Name: Red, Length: 1309355, dtype: float64, 'Green': 0          0.439216\n",
      "1          0.466667\n",
      "2          0.533333\n",
      "3          0.568627\n",
      "4          0.447059\n",
      "             ...   \n",
      "1309350    0.815686\n",
      "1309351    0.427451\n",
      "1309352    0.615686\n",
      "1309353    0.615686\n",
      "1309354    0.631373\n",
      "Name: Green, Length: 1309355, dtype: float64, 'Blue': 0          0.384314\n",
      "1          0.443137\n",
      "2          0.443137\n",
      "3          0.486275\n",
      "4          0.423529\n",
      "             ...   \n",
      "1309350    0.776471\n",
      "1309351    0.431373\n",
      "1309352    0.572549\n",
      "1309353    0.572549\n",
      "1309354    0.592157\n",
      "Name: Blue, Length: 1309355, dtype: float64}}\n"
     ]
    },
    {
     "ename": "TraitError",
     "evalue": "'50' is not of type 'number'\n\nFailed validating 'type' in schema['properties']['wheel_precision']:\n    {'type': 'number'}\n\nOn instance['wheel_precision']:\n    '50'",
     "output_type": "error",
     "traceback": [
      "\u001b[0;31m---------------------------------------------------------------------------\u001b[0m",
      "\u001b[0;31mValidationError\u001b[0m                           Traceback (most recent call last)",
      "File \u001b[0;32m~/projects/TileDB-PyBabylonJS/pybabylonjs/babylonjs.py:65\u001b[0m, in \u001b[0;36mBabylonBase._validate_value\u001b[0;34m(self, proposal)\u001b[0m\n\u001b[1;32m     64\u001b[0m \u001b[38;5;28mprint\u001b[39m(proposal[\u001b[38;5;124m\"\u001b[39m\u001b[38;5;124mvalue\u001b[39m\u001b[38;5;124m\"\u001b[39m])\n\u001b[0;32m---> 65\u001b[0m \u001b[43mjsonschema\u001b[49m\u001b[38;5;241;43m.\u001b[39;49m\u001b[43mvalidate\u001b[49m\u001b[43m(\u001b[49m\u001b[43minstance\u001b[49m\u001b[38;5;241;43m=\u001b[39;49m\u001b[43mproposal\u001b[49m\u001b[43m[\u001b[49m\u001b[38;5;124;43m\"\u001b[39;49m\u001b[38;5;124;43mvalue\u001b[39;49m\u001b[38;5;124;43m\"\u001b[39;49m\u001b[43m]\u001b[49m\u001b[43m,\u001b[49m\u001b[43m \u001b[49m\u001b[43mschema\u001b[49m\u001b[38;5;241;43m=\u001b[39;49m\u001b[38;5;28;43mself\u001b[39;49m\u001b[38;5;241;43m.\u001b[39;49m\u001b[43m_schema\u001b[49m\u001b[43m)\u001b[49m\n\u001b[1;32m     66\u001b[0m \u001b[38;5;28mprint\u001b[39m(\u001b[38;5;124m\"\u001b[39m\u001b[38;5;124mAFTER VALIDATE\u001b[39m\u001b[38;5;124m\"\u001b[39m)\n",
      "File \u001b[0;32m~/mambaforge/envs/pybabylonjs-dev/lib/python3.10/site-packages/jsonschema/validators.py:1022\u001b[0m, in \u001b[0;36mvalidate\u001b[0;34m(instance, schema, cls, *args, **kwargs)\u001b[0m\n\u001b[1;32m   1021\u001b[0m \u001b[38;5;28;01mif\u001b[39;00m error \u001b[38;5;129;01mis\u001b[39;00m \u001b[38;5;129;01mnot\u001b[39;00m \u001b[38;5;28;01mNone\u001b[39;00m:\n\u001b[0;32m-> 1022\u001b[0m     \u001b[38;5;28;01mraise\u001b[39;00m error\n",
      "\u001b[0;31mValidationError\u001b[0m: '50' is not of type 'number'\n\nFailed validating 'type' in schema['properties']['wheel_precision']:\n    {'type': 'number'}\n\nOn instance['wheel_precision']:\n    '50'",
      "\nDuring handling of the above exception, another exception occurred:\n",
      "\u001b[0;31mTraitError\u001b[0m                                Traceback (most recent call last)",
      "Input \u001b[0;32mIn [11]\u001b[0m, in \u001b[0;36m<module>\u001b[0;34m\u001b[0m\n\u001b[0;32m----> 1\u001b[0m \u001b[43mshow\u001b[49m\u001b[38;5;241;43m.\u001b[39;49m\u001b[43mfrom_dict\u001b[49m\u001b[43m(\u001b[49m\u001b[43mdata\u001b[49m\u001b[38;5;241;43m=\u001b[39;49m\u001b[43mdata\u001b[49m\u001b[43m,\u001b[49m\n\u001b[1;32m      2\u001b[0m \u001b[43m                \u001b[49m\u001b[43mstyle\u001b[49m\u001b[43m \u001b[49m\u001b[38;5;241;43m=\u001b[39;49m\u001b[43m \u001b[49m\u001b[38;5;124;43m'\u001b[39;49m\u001b[38;5;124;43mpointcloud\u001b[39;49m\u001b[38;5;124;43m'\u001b[39;49m\u001b[43m,\u001b[49m\n\u001b[1;32m      3\u001b[0m \u001b[43m                \u001b[49m\u001b[43mwidth\u001b[49m\u001b[43m \u001b[49m\u001b[38;5;241;43m=\u001b[39;49m\u001b[43m \u001b[49m\u001b[38;5;241;43m800\u001b[39;49m\u001b[43m,\u001b[49m\n\u001b[1;32m      4\u001b[0m \u001b[43m                \u001b[49m\u001b[43mheight\u001b[49m\u001b[43m \u001b[49m\u001b[38;5;241;43m=\u001b[39;49m\u001b[43m \u001b[49m\u001b[38;5;241;43m600\u001b[39;49m\u001b[43m,\u001b[49m\n\u001b[1;32m      5\u001b[0m \u001b[43m                \u001b[49m\u001b[43mz_scale\u001b[49m\u001b[43m \u001b[49m\u001b[38;5;241;43m=\u001b[39;49m\u001b[43m \u001b[49m\u001b[38;5;241;43m.2\u001b[39;49m\u001b[43m,\u001b[49m\n\u001b[1;32m      6\u001b[0m \u001b[43m                \u001b[49m\u001b[43mwheel_precision\u001b[49m\u001b[43m \u001b[49m\u001b[38;5;241;43m=\u001b[39;49m\u001b[43m \u001b[49m\u001b[38;5;124;43m\"\u001b[39;49m\u001b[38;5;124;43m50\u001b[39;49m\u001b[38;5;124;43m\"\u001b[39;49m\u001b[43m)\u001b[49m\n",
      "File \u001b[0;32m~/projects/TileDB-PyBabylonJS/pybabylonjs/visualize.py:137\u001b[0m, in \u001b[0;36mShow.from_dict\u001b[0;34m(self, data, style, width, height, z_scale, wheel_precision, time)\u001b[0m\n\u001b[1;32m    135\u001b[0m \u001b[38;5;28;01mif\u001b[39;00m style \u001b[38;5;241m==\u001b[39m \u001b[38;5;124m\"\u001b[39m\u001b[38;5;124mpointcloud\u001b[39m\u001b[38;5;124m\"\u001b[39m: \n\u001b[1;32m    136\u001b[0m     dataviz \u001b[38;5;241m=\u001b[39m BabylonPC()\n\u001b[0;32m--> 137\u001b[0m     dataviz\u001b[38;5;241m.\u001b[39mvalue \u001b[38;5;241m=\u001b[39m pointcloud_schema(data,style,width,height,z_scale,wheel_precision,time)\n\u001b[1;32m    138\u001b[0m     display(dataviz)\n",
      "File \u001b[0;32m~/mambaforge/envs/pybabylonjs-dev/lib/python3.10/site-packages/traitlets/traitlets.py:606\u001b[0m, in \u001b[0;36mTraitType.__set__\u001b[0;34m(self, obj, value)\u001b[0m\n\u001b[1;32m    604\u001b[0m     \u001b[38;5;28;01mraise\u001b[39;00m TraitError(\u001b[38;5;124m'\u001b[39m\u001b[38;5;124mThe \u001b[39m\u001b[38;5;124m\"\u001b[39m\u001b[38;5;132;01m%s\u001b[39;00m\u001b[38;5;124m\"\u001b[39m\u001b[38;5;124m trait is read-only.\u001b[39m\u001b[38;5;124m'\u001b[39m \u001b[38;5;241m%\u001b[39m \u001b[38;5;28mself\u001b[39m\u001b[38;5;241m.\u001b[39mname)\n\u001b[1;32m    605\u001b[0m \u001b[38;5;28;01melse\u001b[39;00m:\n\u001b[0;32m--> 606\u001b[0m     \u001b[38;5;28;43mself\u001b[39;49m\u001b[38;5;241;43m.\u001b[39;49m\u001b[43mset\u001b[49m\u001b[43m(\u001b[49m\u001b[43mobj\u001b[49m\u001b[43m,\u001b[49m\u001b[43m \u001b[49m\u001b[43mvalue\u001b[49m\u001b[43m)\u001b[49m\n",
      "File \u001b[0;32m~/mambaforge/envs/pybabylonjs-dev/lib/python3.10/site-packages/traitlets/traitlets.py:580\u001b[0m, in \u001b[0;36mTraitType.set\u001b[0;34m(self, obj, value)\u001b[0m\n\u001b[1;32m    579\u001b[0m \u001b[38;5;28;01mdef\u001b[39;00m \u001b[38;5;21mset\u001b[39m(\u001b[38;5;28mself\u001b[39m, obj, value):\n\u001b[0;32m--> 580\u001b[0m     new_value \u001b[38;5;241m=\u001b[39m \u001b[38;5;28;43mself\u001b[39;49m\u001b[38;5;241;43m.\u001b[39;49m\u001b[43m_validate\u001b[49m\u001b[43m(\u001b[49m\u001b[43mobj\u001b[49m\u001b[43m,\u001b[49m\u001b[43m \u001b[49m\u001b[43mvalue\u001b[49m\u001b[43m)\u001b[49m\n\u001b[1;32m    581\u001b[0m     \u001b[38;5;28;01mtry\u001b[39;00m:\n\u001b[1;32m    582\u001b[0m         old_value \u001b[38;5;241m=\u001b[39m obj\u001b[38;5;241m.\u001b[39m_trait_values[\u001b[38;5;28mself\u001b[39m\u001b[38;5;241m.\u001b[39mname]\n",
      "File \u001b[0;32m~/mambaforge/envs/pybabylonjs-dev/lib/python3.10/site-packages/traitlets/traitlets.py:614\u001b[0m, in \u001b[0;36mTraitType._validate\u001b[0;34m(self, obj, value)\u001b[0m\n\u001b[1;32m    612\u001b[0m     value \u001b[38;5;241m=\u001b[39m \u001b[38;5;28mself\u001b[39m\u001b[38;5;241m.\u001b[39mvalidate(obj, value)\n\u001b[1;32m    613\u001b[0m \u001b[38;5;28;01mif\u001b[39;00m obj\u001b[38;5;241m.\u001b[39m_cross_validation_lock \u001b[38;5;129;01mis\u001b[39;00m \u001b[38;5;28;01mFalse\u001b[39;00m:\n\u001b[0;32m--> 614\u001b[0m     value \u001b[38;5;241m=\u001b[39m \u001b[38;5;28;43mself\u001b[39;49m\u001b[38;5;241;43m.\u001b[39;49m\u001b[43m_cross_validate\u001b[49m\u001b[43m(\u001b[49m\u001b[43mobj\u001b[49m\u001b[43m,\u001b[49m\u001b[43m \u001b[49m\u001b[43mvalue\u001b[49m\u001b[43m)\u001b[49m\n\u001b[1;32m    615\u001b[0m \u001b[38;5;28;01mreturn\u001b[39;00m value\n",
      "File \u001b[0;32m~/mambaforge/envs/pybabylonjs-dev/lib/python3.10/site-packages/traitlets/traitlets.py:620\u001b[0m, in \u001b[0;36mTraitType._cross_validate\u001b[0;34m(self, obj, value)\u001b[0m\n\u001b[1;32m    618\u001b[0m \u001b[38;5;28;01mif\u001b[39;00m \u001b[38;5;28mself\u001b[39m\u001b[38;5;241m.\u001b[39mname \u001b[38;5;129;01min\u001b[39;00m obj\u001b[38;5;241m.\u001b[39m_trait_validators:\n\u001b[1;32m    619\u001b[0m     proposal \u001b[38;5;241m=\u001b[39m Bunch({\u001b[38;5;124m'\u001b[39m\u001b[38;5;124mtrait\u001b[39m\u001b[38;5;124m'\u001b[39m: \u001b[38;5;28mself\u001b[39m, \u001b[38;5;124m'\u001b[39m\u001b[38;5;124mvalue\u001b[39m\u001b[38;5;124m'\u001b[39m: value, \u001b[38;5;124m'\u001b[39m\u001b[38;5;124mowner\u001b[39m\u001b[38;5;124m'\u001b[39m: obj})\n\u001b[0;32m--> 620\u001b[0m     value \u001b[38;5;241m=\u001b[39m \u001b[43mobj\u001b[49m\u001b[38;5;241;43m.\u001b[39;49m\u001b[43m_trait_validators\u001b[49m\u001b[43m[\u001b[49m\u001b[38;5;28;43mself\u001b[39;49m\u001b[38;5;241;43m.\u001b[39;49m\u001b[43mname\u001b[49m\u001b[43m]\u001b[49m\u001b[43m(\u001b[49m\u001b[43mobj\u001b[49m\u001b[43m,\u001b[49m\u001b[43m \u001b[49m\u001b[43mproposal\u001b[49m\u001b[43m)\u001b[49m\n\u001b[1;32m    621\u001b[0m \u001b[38;5;28;01melif\u001b[39;00m \u001b[38;5;28mhasattr\u001b[39m(obj, \u001b[38;5;124m'\u001b[39m\u001b[38;5;124m_\u001b[39m\u001b[38;5;132;01m%s\u001b[39;00m\u001b[38;5;124m_validate\u001b[39m\u001b[38;5;124m'\u001b[39m \u001b[38;5;241m%\u001b[39m \u001b[38;5;28mself\u001b[39m\u001b[38;5;241m.\u001b[39mname):\n\u001b[1;32m    622\u001b[0m     meth_name \u001b[38;5;241m=\u001b[39m \u001b[38;5;124m'\u001b[39m\u001b[38;5;124m_\u001b[39m\u001b[38;5;132;01m%s\u001b[39;00m\u001b[38;5;124m_validate\u001b[39m\u001b[38;5;124m'\u001b[39m \u001b[38;5;241m%\u001b[39m \u001b[38;5;28mself\u001b[39m\u001b[38;5;241m.\u001b[39mname\n",
      "File \u001b[0;32m~/mambaforge/envs/pybabylonjs-dev/lib/python3.10/site-packages/traitlets/traitlets.py:977\u001b[0m, in \u001b[0;36mEventHandler.__call__\u001b[0;34m(self, *args, **kwargs)\u001b[0m\n\u001b[1;32m    975\u001b[0m \u001b[38;5;124;03m\"\"\"Pass `*args` and `**kwargs` to the handler's function if it exists.\"\"\"\u001b[39;00m\n\u001b[1;32m    976\u001b[0m \u001b[38;5;28;01mif\u001b[39;00m \u001b[38;5;28mhasattr\u001b[39m(\u001b[38;5;28mself\u001b[39m, \u001b[38;5;124m'\u001b[39m\u001b[38;5;124mfunc\u001b[39m\u001b[38;5;124m'\u001b[39m):\n\u001b[0;32m--> 977\u001b[0m     \u001b[38;5;28;01mreturn\u001b[39;00m \u001b[38;5;28;43mself\u001b[39;49m\u001b[38;5;241;43m.\u001b[39;49m\u001b[43mfunc\u001b[49m\u001b[43m(\u001b[49m\u001b[38;5;241;43m*\u001b[39;49m\u001b[43margs\u001b[49m\u001b[43m,\u001b[49m\u001b[43m \u001b[49m\u001b[38;5;241;43m*\u001b[39;49m\u001b[38;5;241;43m*\u001b[39;49m\u001b[43mkwargs\u001b[49m\u001b[43m)\u001b[49m\n\u001b[1;32m    978\u001b[0m \u001b[38;5;28;01melse\u001b[39;00m:\n\u001b[1;32m    979\u001b[0m     \u001b[38;5;28;01mreturn\u001b[39;00m \u001b[38;5;28mself\u001b[39m\u001b[38;5;241m.\u001b[39m_init_call(\u001b[38;5;241m*\u001b[39margs, \u001b[38;5;241m*\u001b[39m\u001b[38;5;241m*\u001b[39mkwargs)\n",
      "File \u001b[0;32m~/projects/TileDB-PyBabylonJS/pybabylonjs/babylonjs.py:69\u001b[0m, in \u001b[0;36mBabylonBase._validate_value\u001b[0;34m(self, proposal)\u001b[0m\n\u001b[1;32m     67\u001b[0m     \u001b[38;5;28;01mreturn\u001b[39;00m proposal[\u001b[38;5;124m\"\u001b[39m\u001b[38;5;124mvalue\u001b[39m\u001b[38;5;124m\"\u001b[39m]\n\u001b[1;32m     68\u001b[0m \u001b[38;5;28;01mexcept\u001b[39;00m jsonschema\u001b[38;5;241m.\u001b[39mValidationError \u001b[38;5;28;01mas\u001b[39;00m e:\n\u001b[0;32m---> 69\u001b[0m     \u001b[38;5;28;01mraise\u001b[39;00m TraitError(e)\n",
      "\u001b[0;31mTraitError\u001b[0m: '50' is not of type 'number'\n\nFailed validating 'type' in schema['properties']['wheel_precision']:\n    {'type': 'number'}\n\nOn instance['wheel_precision']:\n    '50'"
     ]
    }
   ],
   "source": [
    "show.from_dict(data=data,\n",
    "                style = 'pointcloud',\n",
    "                width = 800,\n",
    "                height = 600,\n",
    "                z_scale = .2,\n",
    "                wheel_precision = 50)"
   ]
  },
  {
   "cell_type": "markdown",
   "id": "1b7231d5-7082-4ec2-a4a2-fb04895c2a6f",
   "metadata": {},
   "source": [
    "## MBRS\n",
    "\n",
    "### Default sorting"
   ]
  },
  {
   "cell_type": "code",
   "execution_count": null,
   "id": "028eea10-de32-4430-a888-91a269056640",
   "metadata": {},
   "outputs": [],
   "source": [
    "show.from_array(array='autzen1',\n",
    "                style='mbrs',\n",
    "                width=800,\n",
    "                height=600,\n",
    "                z_scale = 0.5,\n",
    "                wheel_precision = 50)"
   ]
  },
  {
   "cell_type": "markdown",
   "id": "9bac3fe0-b220-4d68-a97b-51379f03394b",
   "metadata": {},
   "source": [
    "### Optimized sorting - visual tuning - 2.5 x faster loading of data from array"
   ]
  },
  {
   "cell_type": "code",
   "execution_count": null,
   "id": "fc4b50ff-8a85-4844-bbcb-dac5176aee56",
   "metadata": {},
   "outputs": [],
   "source": [
    "show.from_array(array='autzen5',\n",
    "                style='mbrs',\n",
    "                width=800,\n",
    "                height=600,\n",
    "                z_scale = 0.2)"
   ]
  },
  {
   "cell_type": "code",
   "execution_count": null,
   "id": "fb82f1e1-7934-4b04-b041-051f16f38cfa",
   "metadata": {},
   "outputs": [],
   "source": [
    "%%time\n",
    "with tiledb.open(\"autzen1\") as arr:\n",
    "    df = pd.DataFrame(arr[636800:637800, 851000:853000, 406.14:615.26])"
   ]
  },
  {
   "cell_type": "code",
   "execution_count": null,
   "id": "9d8688a4-962a-4b07-a98a-0a3b08811e87",
   "metadata": {},
   "outputs": [],
   "source": [
    "%%time\n",
    "with tiledb.open(\"autzen5\") as arr:\n",
    "    df = pd.DataFrame(arr[636800:637800, 851000:853000, 406.14:615.26])"
   ]
  },
  {
   "cell_type": "markdown",
   "id": "31991f11-8592-4d46-abf7-53c11adf4776",
   "metadata": {},
   "source": [
    "## 4D "
   ]
  },
  {
   "cell_type": "code",
   "execution_count": null,
   "id": "5e5e2e47-055d-424f-9e24-e0945d790e04",
   "metadata": {},
   "outputs": [],
   "source": [
    "# %%time\n",
    "# with tiledb.open(\"autzen5\") as arr:\n",
    "#     df = pd.DataFrame(arr[636800:637800, 851000:853000, 406.14:615.26])\n",
    "\n",
    "# data = {\n",
    "#     'X': df['X'],\n",
    "#     'Y': df['Y'],\n",
    "#     'Z': df['Z'],\n",
    "#     'Red': df['Red'] / 255.0,\n",
    "#     'Green': df['Green'] / 255.0,\n",
    "#     'Blue': df['Blue'] / 255.0,\n",
    "#     'GpsTime': df['GpsTime']}"
   ]
  },
  {
   "cell_type": "code",
   "execution_count": null,
   "id": "fb71bf0d-fb22-43fc-925e-96c8c5814a25",
   "metadata": {},
   "outputs": [],
   "source": [
    "# show.from_dict(data=data,\n",
    "#                       style = 'pointcloud',\n",
    "#                         width = 800,\n",
    "#                         height = 600,\n",
    "#                         z_scale = .2,\n",
    "#                         time = True)"
   ]
  },
  {
   "cell_type": "code",
   "execution_count": null,
   "id": "883976ac-ccb9-4c52-8fe2-3c8e62814f04",
   "metadata": {},
   "outputs": [],
   "source": []
  },
  {
   "cell_type": "code",
   "execution_count": null,
   "id": "d85176ad-37b7-4c9e-90db-27b2eedaedf7",
   "metadata": {},
   "outputs": [],
   "source": []
  }
 ],
 "metadata": {
  "kernelspec": {
   "display_name": "Python 3 (ipykernel)",
   "language": "python",
   "name": "python3"
  },
  "language_info": {
   "codemirror_mode": {
    "name": "ipython",
    "version": 3
   },
   "file_extension": ".py",
   "mimetype": "text/x-python",
   "name": "python",
   "nbconvert_exporter": "python",
   "pygments_lexer": "ipython3",
   "version": "3.10.2"
  }
 },
 "nbformat": 4,
 "nbformat_minor": 5
}
