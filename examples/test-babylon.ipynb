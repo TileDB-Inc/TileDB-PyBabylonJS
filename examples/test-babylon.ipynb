{
 "cells": [
  {
   "cell_type": "code",
   "execution_count": null,
   "id": "9c3469f7-b9c0-4fc2-a142-46cd0fd2ae45",
   "metadata": {},
   "outputs": [],
   "source": [
    "import json\n",
    "import shutil\n",
    "\n",
    "import numpy as np\n",
    "from mpl_toolkits.mplot3d import Axes3D\n",
    "import matplotlib.pyplot as plt\n",
    "\n",
    "import pandas as pd\n",
    "import pdal\n",
    "import pybabylonjs\n",
    "from pybabylonjs import Show as show\n",
    "import tiledb"
   ]
  },
  {
   "cell_type": "code",
   "execution_count": null,
   "id": "033b0092-e7d0-4c2b-a79e-fb36b2352bcf",
   "metadata": {},
   "outputs": [],
   "source": [
    "#!wget -nc \"https://github.com/PDAL/data/blob/master/workshop/autzen.laz?raw=true\" -O \"autzen.laz\""
   ]
  },
  {
   "cell_type": "code",
   "execution_count": null,
   "id": "8b3c3003-c77d-439a-86d0-2ea8f5c69529",
   "metadata": {},
   "outputs": [],
   "source": [
    "#try:\n",
    "#    shutil.rmtree(\"autzen\")\n",
    "#    pass\n",
    "#except:\n",
    "#    pass"
   ]
  },
  {
   "cell_type": "code",
   "execution_count": null,
   "id": "eea2cf7b-aa73-4006-90a9-3d635dbf9368",
   "metadata": {},
   "outputs": [],
   "source": [
    "pipeline1 = (\n",
    "  pdal.Reader(\"autzen.laz\") |\n",
    "  pdal.Filter.stats() |\n",
    "  pdal.Writer.tiledb(array_name=\"autzen1\",chunk_size=10000000)\n",
    ")\n",
    "\n",
    "# count = pipeline1.execute()  "
   ]
  },
  {
   "cell_type": "code",
   "execution_count": null,
   "id": "4927ac24-91c5-4275-86e5-61224a6259cf",
   "metadata": {},
   "outputs": [],
   "source": [
    "pipeline2 = (\n",
    "  pdal.Reader(\"autzen.laz\") | \n",
    "  pdal.Writer.tiledb(array_name=\"autzen2\",x_tile_size=10, y_tile_size=10, z_tile_size=1,chunk_size=10000000)\n",
    ")\n",
    "\n",
    "# count = pipeline2.execute() "
   ]
  },
  {
   "cell_type": "code",
   "execution_count": null,
   "id": "3594fcd2-3c74-41d0-88f8-8103d5b1f6c1",
   "metadata": {},
   "outputs": [],
   "source": [
    "pipeline3 = (\n",
    "  pdal.Reader(\"autzen.laz\") |\n",
    "  pdal.Filter.stats() |\n",
    "  pdal.Writer.tiledb(array_name=\"autzen3\",chunk_size=10000000,data_tile_capacity=100000)\n",
    ")\n",
    "\n",
    "# count = pipeline3.execute()  "
   ]
  },
  {
   "cell_type": "code",
   "execution_count": null,
   "id": "57d2d89c-42fe-4f59-88b5-ca10b3bf1238",
   "metadata": {},
   "outputs": [],
   "source": [
    "pipeline4 = (\n",
    "  pdal.Reader(\"autzen.laz\") |\n",
    "  pdal.Filter.stats() |\n",
    "  pdal.Writer.tiledb(array_name=\"autzen4\",chunk_size=100000,data_tile_capacity=100000)\n",
    ")\n",
    "\n",
    "# count = pipeline4.execute()  "
   ]
  },
  {
   "cell_type": "code",
   "execution_count": null,
   "id": "1e2e9320-009a-4b09-af7d-81281dac0763",
   "metadata": {},
   "outputs": [],
   "source": [
    "pipeline5 = (\n",
    "  pdal.Reader(\"autzen.laz\") |\n",
    "  pdal.Filter.stats() |\n",
    "  pdal.Writer.tiledb(array_name=\"autzen5\",chunk_size=100000)\n",
    ")\n",
    "\n",
    "# count = pipeline5.execute()  "
   ]
  },
  {
   "cell_type": "markdown",
   "id": "de9e6471-4cf1-4c93-8824-8d04a3539722",
   "metadata": {},
   "source": [
    "## Point cloud"
   ]
  },
  {
   "cell_type": "code",
   "execution_count": null,
   "id": "dc3566a9-e81a-40a1-810d-0dc81c9ea4a4",
   "metadata": {},
   "outputs": [],
   "source": [
    "%%time\n",
    "with tiledb.open(\"autzen1\") as arr:\n",
    "    df = arr.df[636800:637800, 851000:853000, 406.14:615.26]\n",
    "\n",
    "df.head()"
   ]
  },
  {
   "cell_type": "code",
   "execution_count": null,
   "id": "b1d0d80b-212f-4aa8-9b64-e2106e73ddc4",
   "metadata": {},
   "outputs": [],
   "source": [
    "data = {\n",
    "    'X': df['X'],\n",
    "    'Y': df['Y'],\n",
    "    'Z': df['Z'],\n",
    "    'Red': df['Red'] / 255.0,\n",
    "    'Green': df['Green'] / 255.0,\n",
    "    'Blue': df['Blue'] / 255.0\n",
    "}"
   ]
  },
  {
   "cell_type": "code",
   "execution_count": null,
   "id": "943b6fe7-cbab-49f1-a3b7-75146016567f",
   "metadata": {},
   "outputs": [],
   "source": [
    "show.from_dict(data=data,\n",
    "                style = 'pointcloud',\n",
    "                width = 800,\n",
    "                height = 600,\n",
    "                inspector = True)"
   ]
  },
  {
   "cell_type": "code",
   "execution_count": null,
   "id": "97ddf987-09ee-44e3-9ab4-c678867207f9",
   "metadata": {},
   "outputs": [],
   "source": [
    "babylon = pybabylonjs.BabylonJS()\n",
    "babylon.value = data\n",
    "babylon.z_scale = .2\n",
    "babylon"
   ]
  },
  {
   "cell_type": "markdown",
   "id": "1b7231d5-7082-4ec2-a4a2-fb04895c2a6f",
   "metadata": {},
   "source": [
    "## MBRS\n",
    "\n",
    "### Default sorting"
   ]
  },
  {
   "cell_type": "code",
   "execution_count": null,
   "id": "028eea10-de32-4430-a888-91a269056640",
   "metadata": {},
   "outputs": [],
   "source": [
    "show.from_array(array_uri='autzen1',\n",
    "                style='mbrs',\n",
    "                width=800,\n",
    "                height=600,\n",
    "                z_scale = 0.5,\n",
    "                wheel_precision = 50)"
   ]
  },
  {
   "cell_type": "markdown",
   "id": "9bac3fe0-b220-4d68-a97b-51379f03394b",
   "metadata": {},
   "source": [
    "### Optimized sorting - visual tuning - 2.5 x faster loading of data from array"
   ]
  },
  {
   "cell_type": "code",
   "execution_count": null,
   "id": "fc4b50ff-8a85-4844-bbcb-dac5176aee56",
   "metadata": {},
   "outputs": [],
   "source": [
    "show.from_array(array_uri='autzen5',\n",
    "                style='mbrs',\n",
    "                width=800,\n",
    "                height=600,\n",
    "                z_scale = 0.2,\n",
    "                wheel_precision = 50)"
   ]
  },
  {
   "cell_type": "code",
   "execution_count": null,
   "id": "fb82f1e1-7934-4b04-b041-051f16f38cfa",
   "metadata": {},
   "outputs": [],
   "source": [
    "%%time\n",
    "with tiledb.open(\"autzen1\") as arr:\n",
    "    df = arr.df[636800:637800, 851000:853000, 406.14:615.26]"
   ]
  },
  {
   "cell_type": "code",
   "execution_count": null,
   "id": "9d8688a4-962a-4b07-a98a-0a3b08811e87",
   "metadata": {},
   "outputs": [],
   "source": [
    "%%time\n",
    "with tiledb.open(\"autzen5\") as arr:\n",
    "    df = arr.df[636800:637800, 851000:853000, 406.14:615.26]"
   ]
  },
  {
   "cell_type": "markdown",
   "id": "31991f11-8592-4d46-abf7-53c11adf4776",
   "metadata": {},
   "source": [
    "## 4D "
   ]
  },
  {
   "cell_type": "code",
   "execution_count": null,
   "id": "5e5e2e47-055d-424f-9e24-e0945d790e04",
   "metadata": {},
   "outputs": [],
   "source": [
    "%%time\n",
    "with tiledb.open(\"autzen5\") as arr:\n",
    "    df = pd.DataFrame(arr[636800:637800, 851000:853000, 406.14:615.26])\n",
    "    \n",
    "df.sort_values(by=[\"GpsTime\"], inplace=True)\n",
    "\n",
    "data = {\n",
    "    'X': df['X'],\n",
    "    'Y': df['Y'],\n",
    "    'Z': df['Z'],\n",
    "    'Red': df['Red'] / 255.0,\n",
    "    'Green': df['Green'] / 255.0,\n",
    "    'Blue': df['Blue'] / 255.0,\n",
    "    'GpsTime': df['GpsTime']}"
   ]
  },
  {
   "cell_type": "code",
   "execution_count": null,
   "id": "fb71bf0d-fb22-43fc-925e-96c8c5814a25",
   "metadata": {},
   "outputs": [],
   "source": [
    "show.from_dict(data=data, style=\"pointcloud\", time=True)"
   ]
  },
  {
   "cell_type": "code",
   "execution_count": null,
   "id": "9ce79ccb-0d9e-431e-b5a4-a5dd1d6022d1",
   "metadata": {},
   "outputs": [],
   "source": []
  }
 ],
 "metadata": {
  "kernelspec": {
   "display_name": "Python 3 (ipykernel)",
   "language": "python",
   "name": "python3"
  },
  "language_info": {
   "codemirror_mode": {
    "name": "ipython",
    "version": 3
   },
   "file_extension": ".py",
   "mimetype": "text/x-python",
   "name": "python",
   "nbconvert_exporter": "python",
   "pygments_lexer": "ipython3",
   "version": "3.10.2"
  }
 },
 "nbformat": 4,
 "nbformat_minor": 5
}
