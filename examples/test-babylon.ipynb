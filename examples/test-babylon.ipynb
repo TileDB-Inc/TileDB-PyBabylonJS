{
 "cells": [
  {
   "cell_type": "code",
   "execution_count": 1,
   "id": "9c3469f7-b9c0-4fc2-a142-46cd0fd2ae45",
   "metadata": {},
   "outputs": [],
   "source": [
    "import json\n",
    "import shutil\n",
    "\n",
    "import numpy as np\n",
    "import pandas as pd\n",
    "from mpl_toolkits.mplot3d import Axes3D\n",
    "import matplotlib.pyplot as plt\n",
    "\n",
    "import tiledb\n",
    "import pdal\n",
    "from pybabylonjs import Show as show"
   ]
  },
  {
   "cell_type": "code",
   "execution_count": 37,
   "id": "033b0092-e7d0-4c2b-a79e-fb36b2352bcf",
   "metadata": {},
   "outputs": [],
   "source": [
    "#!wget -nc \"https://github.com/PDAL/data/blob/master/workshop/autzen.laz?raw=true\" -O \"autzen.laz\""
   ]
  },
  {
   "cell_type": "code",
   "execution_count": 4,
   "id": "8b3c3003-c77d-439a-86d0-2ea8f5c69529",
   "metadata": {},
   "outputs": [],
   "source": [
    "#try:\n",
    "#    shutil.rmtree(\"autzen\")\n",
    "#    pass\n",
    "#except:\n",
    "#    pass"
   ]
  },
  {
   "cell_type": "code",
   "execution_count": 36,
   "id": "eea2cf7b-aa73-4006-90a9-3d635dbf9368",
   "metadata": {},
   "outputs": [],
   "source": [
    "pipeline1 = (\n",
    "  pdal.Reader(\"autzen.laz\") |\n",
    "  pdal.Filter.stats() |\n",
    "  pdal.Writer.tiledb(array_name=\"autzen1\",chunk_size=10000000)\n",
    ")\n",
    "\n",
    "count = pipeline1.execute()  "
   ]
  },
  {
   "cell_type": "code",
   "execution_count": 37,
   "id": "4927ac24-91c5-4275-86e5-61224a6259cf",
   "metadata": {},
   "outputs": [],
   "source": [
    "pipeline2 = (\n",
    "  pdal.Reader(\"autzen.laz\") | \n",
    "  pdal.Writer.tiledb(array_name=\"autzen2\",x_tile_size=10, y_tile_size=10, z_tile_size=1,chunk_size=10000000)\n",
    ")\n",
    "\n",
    "count = pipeline2.execute() "
   ]
  },
  {
   "cell_type": "code",
   "execution_count": 11,
   "id": "3594fcd2-3c74-41d0-88f8-8103d5b1f6c1",
   "metadata": {},
   "outputs": [],
   "source": [
    "pipeline3 = (\n",
    "  pdal.Reader(\"autzen.laz\") |\n",
    "  pdal.Filter.stats() |\n",
    "  pdal.Writer.tiledb(array_name=\"autzen3\",chunk_size=10000000,data_tile_capacity=100000)\n",
    ")\n",
    "\n",
    "count = pipeline3.execute()  "
   ]
  },
  {
   "cell_type": "code",
   "execution_count": 9,
   "id": "57d2d89c-42fe-4f59-88b5-ca10b3bf1238",
   "metadata": {},
   "outputs": [],
   "source": [
    "pipeline4 = (\n",
    "  pdal.Reader(\"autzen.laz\") |\n",
    "  pdal.Filter.stats() |\n",
    "  pdal.Writer.tiledb(array_name=\"autzen4\",chunk_size=100000,data_tile_capacity=100000)\n",
    ")\n",
    "\n",
    "count = pipeline4.execute()  "
   ]
  },
  {
   "cell_type": "code",
   "execution_count": 11,
   "id": "1e2e9320-009a-4b09-af7d-81281dac0763",
   "metadata": {},
   "outputs": [],
   "source": [
    "pipeline5 = (\n",
    "  pdal.Reader(\"autzen.laz\") |\n",
    "  pdal.Filter.stats() |\n",
    "  pdal.Writer.tiledb(array_name=\"autzen5\",chunk_size=100000)\n",
    ")\n",
    "\n",
    "count = pipeline5.execute()  "
   ]
  },
  {
   "cell_type": "markdown",
   "id": "de9e6471-4cf1-4c93-8824-8d04a3539722",
   "metadata": {},
   "source": [
    "## Point cloud"
   ]
  },
  {
   "cell_type": "code",
   "execution_count": 2,
   "id": "dc3566a9-e81a-40a1-810d-0dc81c9ea4a4",
   "metadata": {},
   "outputs": [
    {
     "name": "stdout",
     "output_type": "stream",
     "text": [
      "CPU times: user 4.94 s, sys: 913 ms, total: 5.85 s\n",
      "Wall time: 1.31 s\n"
     ]
    },
    {
     "data": {
      "text/html": [
       "<div>\n",
       "<style scoped>\n",
       "    .dataframe tbody tr th:only-of-type {\n",
       "        vertical-align: middle;\n",
       "    }\n",
       "\n",
       "    .dataframe tbody tr th {\n",
       "        vertical-align: top;\n",
       "    }\n",
       "\n",
       "    .dataframe thead th {\n",
       "        text-align: right;\n",
       "    }\n",
       "</style>\n",
       "<table border=\"1\" class=\"dataframe\">\n",
       "  <thead>\n",
       "    <tr style=\"text-align: right;\">\n",
       "      <th></th>\n",
       "      <th>Intensity</th>\n",
       "      <th>ReturnNumber</th>\n",
       "      <th>NumberOfReturns</th>\n",
       "      <th>ScanDirectionFlag</th>\n",
       "      <th>EdgeOfFlightLine</th>\n",
       "      <th>Classification</th>\n",
       "      <th>ScanAngleRank</th>\n",
       "      <th>UserData</th>\n",
       "      <th>PointSourceId</th>\n",
       "      <th>GpsTime</th>\n",
       "      <th>Red</th>\n",
       "      <th>Green</th>\n",
       "      <th>Blue</th>\n",
       "      <th>X</th>\n",
       "      <th>Y</th>\n",
       "      <th>Z</th>\n",
       "    </tr>\n",
       "  </thead>\n",
       "  <tbody>\n",
       "    <tr>\n",
       "      <th>0</th>\n",
       "      <td>1</td>\n",
       "      <td>1</td>\n",
       "      <td>1</td>\n",
       "      <td>1</td>\n",
       "      <td>0</td>\n",
       "      <td>2</td>\n",
       "      <td>-1.0</td>\n",
       "      <td>122</td>\n",
       "      <td>7331</td>\n",
       "      <td>248289.538944</td>\n",
       "      <td>111</td>\n",
       "      <td>112</td>\n",
       "      <td>98</td>\n",
       "      <td>637475.45</td>\n",
       "      <td>851804.30</td>\n",
       "      <td>415.49</td>\n",
       "    </tr>\n",
       "    <tr>\n",
       "      <th>1</th>\n",
       "      <td>1</td>\n",
       "      <td>1</td>\n",
       "      <td>1</td>\n",
       "      <td>1</td>\n",
       "      <td>0</td>\n",
       "      <td>2</td>\n",
       "      <td>10.0</td>\n",
       "      <td>122</td>\n",
       "      <td>7332</td>\n",
       "      <td>248680.116914</td>\n",
       "      <td>114</td>\n",
       "      <td>119</td>\n",
       "      <td>113</td>\n",
       "      <td>637174.99</td>\n",
       "      <td>852014.95</td>\n",
       "      <td>415.49</td>\n",
       "    </tr>\n",
       "    <tr>\n",
       "      <th>2</th>\n",
       "      <td>1</td>\n",
       "      <td>1</td>\n",
       "      <td>1</td>\n",
       "      <td>0</td>\n",
       "      <td>0</td>\n",
       "      <td>2</td>\n",
       "      <td>-12.0</td>\n",
       "      <td>124</td>\n",
       "      <td>7330</td>\n",
       "      <td>247564.723623</td>\n",
       "      <td>134</td>\n",
       "      <td>136</td>\n",
       "      <td>113</td>\n",
       "      <td>637371.69</td>\n",
       "      <td>851840.65</td>\n",
       "      <td>415.51</td>\n",
       "    </tr>\n",
       "    <tr>\n",
       "      <th>3</th>\n",
       "      <td>1</td>\n",
       "      <td>1</td>\n",
       "      <td>1</td>\n",
       "      <td>0</td>\n",
       "      <td>0</td>\n",
       "      <td>2</td>\n",
       "      <td>0.0</td>\n",
       "      <td>124</td>\n",
       "      <td>7331</td>\n",
       "      <td>248288.150659</td>\n",
       "      <td>138</td>\n",
       "      <td>145</td>\n",
       "      <td>124</td>\n",
       "      <td>637244.90</td>\n",
       "      <td>851873.25</td>\n",
       "      <td>415.51</td>\n",
       "    </tr>\n",
       "    <tr>\n",
       "      <th>4</th>\n",
       "      <td>1</td>\n",
       "      <td>1</td>\n",
       "      <td>1</td>\n",
       "      <td>1</td>\n",
       "      <td>0</td>\n",
       "      <td>2</td>\n",
       "      <td>-11.0</td>\n",
       "      <td>124</td>\n",
       "      <td>7330</td>\n",
       "      <td>247565.570015</td>\n",
       "      <td>112</td>\n",
       "      <td>114</td>\n",
       "      <td>108</td>\n",
       "      <td>637169.48</td>\n",
       "      <td>851998.29</td>\n",
       "      <td>415.51</td>\n",
       "    </tr>\n",
       "  </tbody>\n",
       "</table>\n",
       "</div>"
      ],
      "text/plain": [
       "   Intensity  ReturnNumber  NumberOfReturns  ScanDirectionFlag  \\\n",
       "0          1             1                1                  1   \n",
       "1          1             1                1                  1   \n",
       "2          1             1                1                  0   \n",
       "3          1             1                1                  0   \n",
       "4          1             1                1                  1   \n",
       "\n",
       "   EdgeOfFlightLine  Classification  ScanAngleRank  UserData  PointSourceId  \\\n",
       "0                 0               2           -1.0       122           7331   \n",
       "1                 0               2           10.0       122           7332   \n",
       "2                 0               2          -12.0       124           7330   \n",
       "3                 0               2            0.0       124           7331   \n",
       "4                 0               2          -11.0       124           7330   \n",
       "\n",
       "         GpsTime  Red  Green  Blue          X          Y       Z  \n",
       "0  248289.538944  111    112    98  637475.45  851804.30  415.49  \n",
       "1  248680.116914  114    119   113  637174.99  852014.95  415.49  \n",
       "2  247564.723623  134    136   113  637371.69  851840.65  415.51  \n",
       "3  248288.150659  138    145   124  637244.90  851873.25  415.51  \n",
       "4  247565.570015  112    114   108  637169.48  851998.29  415.51  "
      ]
     },
     "execution_count": 2,
     "metadata": {},
     "output_type": "execute_result"
    }
   ],
   "source": [
    "%%time\n",
    "with tiledb.open(\"autzen1\") as arr:\n",
    "    df = pd.DataFrame(arr[636800:637800, 851000:853000, 406.14:615.26])\n",
    "\n",
    "df.head()"
   ]
  },
  {
   "cell_type": "code",
   "execution_count": 3,
   "id": "b1d0d80b-212f-4aa8-9b64-e2106e73ddc4",
   "metadata": {},
   "outputs": [],
   "source": [
    "data = {\n",
    "    'X': df['X'],\n",
    "    'Y': df['Y'],\n",
    "    'Z': df['Z'],\n",
    "    'Red': df['Red'] / 255.0,\n",
    "    'Green': df['Green'] / 255.0,\n",
    "    'Blue': df['Blue'] / 255.0\n",
    "}"
   ]
  },
  {
   "cell_type": "code",
   "execution_count": 4,
   "id": "943b6fe7-cbab-49f1-a3b7-75146016567f",
   "metadata": {},
   "outputs": [
    {
     "data": {
      "application/vnd.jupyter.widget-view+json": {
       "model_id": "4201917008a549c784f703f4c8fa8818",
       "version_major": 2,
       "version_minor": 0
      },
      "text/plain": [
       "BabylonPC(value={'style': 'pointcloud', 'width': 800, 'height': 600, 'z_scale': 0.2, 'wheel_precision': 50, 'e…"
      ]
     },
     "metadata": {},
     "output_type": "display_data"
    }
   ],
   "source": [
    "show.from_dict(data=data,\n",
    "                      style = 'pointcloud',\n",
    "                        width = 800,\n",
    "                        height = 600,\n",
    "                        z_scale = .2,\n",
    "                        wheel_precision = 50)"
   ]
  },
  {
   "cell_type": "markdown",
   "id": "1b7231d5-7082-4ec2-a4a2-fb04895c2a6f",
   "metadata": {},
   "source": [
    "## MBRS\n",
    "\n",
    "### Default sorting"
   ]
  },
  {
   "cell_type": "code",
   "execution_count": 5,
   "id": "028eea10-de32-4430-a888-91a269056640",
   "metadata": {},
   "outputs": [
    {
     "data": {
      "application/vnd.jupyter.widget-view+json": {
       "model_id": "d15f6a7bbb744a3288c71e8c5d5c8a79",
       "version_major": 2,
       "version_minor": 0
      },
      "text/plain": [
       "BabylonMBRS(value={'style': 'mbrs', 'width': 800, 'height': 600, 'z_scale': 0.5, 'wheel_precision': 50, 'exten…"
      ]
     },
     "metadata": {},
     "output_type": "display_data"
    }
   ],
   "source": [
    "show.from_array(array='autzen1',\n",
    "                               style='mbrs',\n",
    "                               width=800,\n",
    "                               height=600,\n",
    "                               z_scale = 0.5,\n",
    "                               wheel_precision = 50)"
   ]
  },
  {
   "cell_type": "markdown",
   "id": "9bac3fe0-b220-4d68-a97b-51379f03394b",
   "metadata": {},
   "source": [
    "### Optimized sorting - visual tuning - 2.5 x faster loading of data from array"
   ]
  },
  {
   "cell_type": "code",
   "execution_count": 10,
   "id": "fc4b50ff-8a85-4844-bbcb-dac5176aee56",
   "metadata": {},
   "outputs": [
    {
     "data": {
      "application/vnd.jupyter.widget-view+json": {
       "model_id": "fc0aa157a6904e52a1d7428a59ff8c84",
       "version_major": 2,
       "version_minor": 0
      },
      "text/plain": [
       "BabylonMBRS(value={'style': 'mbrs', 'width': 800, 'height': 600, 'z_scale': 0.2, 'wheel_precision': 50, 'exten…"
      ]
     },
     "metadata": {},
     "output_type": "display_data"
    }
   ],
   "source": [
    "show.from_array(array='autzen5',\n",
    "                               style='mbrs',\n",
    "                               width=800,\n",
    "                               height=600,\n",
    "                               z_scale = 0.2)"
   ]
  },
  {
   "cell_type": "code",
   "execution_count": 11,
   "id": "fb82f1e1-7934-4b04-b041-051f16f38cfa",
   "metadata": {},
   "outputs": [
    {
     "name": "stdout",
     "output_type": "stream",
     "text": [
      "CPU times: user 5.61 s, sys: 1.27 s, total: 6.88 s\n",
      "Wall time: 1.41 s\n"
     ]
    }
   ],
   "source": [
    "%%time\n",
    "with tiledb.open(\"autzen1\") as arr:\n",
    "    df = pd.DataFrame(arr[636800:637800, 851000:853000, 406.14:615.26])"
   ]
  },
  {
   "cell_type": "code",
   "execution_count": 12,
   "id": "9d8688a4-962a-4b07-a98a-0a3b08811e87",
   "metadata": {},
   "outputs": [
    {
     "name": "stdout",
     "output_type": "stream",
     "text": [
      "CPU times: user 1.73 s, sys: 634 ms, total: 2.36 s\n",
      "Wall time: 612 ms\n"
     ]
    }
   ],
   "source": [
    "%%time\n",
    "with tiledb.open(\"autzen5\") as arr:\n",
    "    df = pd.DataFrame(arr[636800:637800, 851000:853000, 406.14:615.26])"
   ]
  },
  {
   "cell_type": "markdown",
   "id": "31991f11-8592-4d46-abf7-53c11adf4776",
   "metadata": {},
   "source": [
    "## 4D "
   ]
  },
  {
   "cell_type": "code",
   "execution_count": 13,
   "id": "5e5e2e47-055d-424f-9e24-e0945d790e04",
   "metadata": {},
   "outputs": [
    {
     "name": "stdout",
     "output_type": "stream",
     "text": [
      "CPU times: user 1.72 s, sys: 657 ms, total: 2.38 s\n",
      "Wall time: 576 ms\n"
     ]
    }
   ],
   "source": [
    "%%time\n",
    "with tiledb.open(\"autzen5\") as arr:\n",
    "    df = pd.DataFrame(arr[636800:637800, 851000:853000, 406.14:615.26])\n",
    "\n",
    "data = {\n",
    "    'X': df['X'],\n",
    "    'Y': df['Y'],\n",
    "    'Z': df['Z'],\n",
    "    'Red': df['Red'] / 255.0,\n",
    "    'Green': df['Green'] / 255.0,\n",
    "    'Blue': df['Blue'] / 255.0,\n",
    "    'GpsTime': df['GpsTime']}"
   ]
  },
  {
   "cell_type": "code",
   "execution_count": 15,
   "id": "fb71bf0d-fb22-43fc-925e-96c8c5814a25",
   "metadata": {},
   "outputs": [
    {
     "data": {
      "application/vnd.jupyter.widget-view+json": {
       "model_id": "e6460a9698b7497bb0f549adb58ec138",
       "version_major": 2,
       "version_minor": 0
      },
      "text/plain": [
       "BabylonPC(value={'style': 'pointcloud', 'width': 800, 'height': 600, 'z_scale': 0.2, 'wheel_precision': 50, 'e…"
      ]
     },
     "metadata": {},
     "output_type": "display_data"
    }
   ],
   "source": [
    "show.from_dict(data=data,\n",
    "                      style = 'pointcloud',\n",
    "                        width = 800,\n",
    "                        height = 600,\n",
    "                        z_scale = .2,\n",
    "                        time = True)"
   ]
  },
  {
   "cell_type": "code",
   "execution_count": null,
   "id": "883976ac-ccb9-4c52-8fe2-3c8e62814f04",
   "metadata": {},
   "outputs": [],
   "source": []
  },
  {
   "cell_type": "code",
   "execution_count": null,
   "id": "d85176ad-37b7-4c9e-90db-27b2eedaedf7",
   "metadata": {},
   "outputs": [],
   "source": []
  }
 ],
 "metadata": {
  "kernelspec": {
   "display_name": "Python 3 (ipykernel)",
   "language": "python",
   "name": "python3"
  },
  "language_info": {
   "codemirror_mode": {
    "name": "ipython",
    "version": 3
   },
   "file_extension": ".py",
   "mimetype": "text/x-python",
   "name": "python",
   "nbconvert_exporter": "python",
   "pygments_lexer": "ipython3",
   "version": "3.7.10"
  }
 },
 "nbformat": 4,
 "nbformat_minor": 5
}
