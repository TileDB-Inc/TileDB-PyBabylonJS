{
 "cells": [
  {
   "cell_type": "markdown",
   "id": "ea5e39c9-72ce-4032-8645-67445ab34074",
   "metadata": {},
   "source": [
    "# Stream and visualize the Autzen point cloud"
   ]
  },
  {
   "cell_type": "code",
   "execution_count": null,
   "id": "4cbfca2f-4088-4605-843f-6de49ed74b3b",
   "metadata": {},
   "outputs": [],
   "source": [
    "import requests\n",
    "import json\n",
    "\n",
    "import pandas as pd\n",
    "import pdal\n",
    "from pybabylonjs import Show as show\n",
    "import tiledb"
   ]
  },
  {
   "cell_type": "markdown",
   "id": "e9df8cc1-8f12-46f0-86bf-5af11b76959c",
   "metadata": {},
   "source": [
    "### Cloud array\n",
    "Load and display point cloud data from cloud arrays with different levels of detail (LOD)."
   ]
  },
  {
   "cell_type": "code",
   "execution_count": null,
   "id": "f68dfda1-7582-45f7-bc1f-f993448a9a1d",
   "metadata": {},
   "outputs": [],
   "source": [
    "token = \"<token>\""
   ]
  },
  {
   "cell_type": "code",
   "execution_count": null,
   "id": "12fbeff2-73a2-4ff0-bc8f-bb69870948af",
   "metadata": {},
   "outputs": [],
   "source": [
    "uri = \"tiledb://norman/autzen\""
   ]
  },
  {
   "cell_type": "code",
   "execution_count": null,
   "id": "c927a1a2-0371-4af3-bf96-1ab8ed94e337",
   "metadata": {},
   "outputs": [],
   "source": [
    "show.point_cloud(streaming=True,\n",
    "                 uri=uri,\n",
    "                 token=token,\n",
    "                 max_levels=6,\n",
    "                 point_size = 3,\n",
    "                 color_scheme = 'light',\n",
    "                 width = '1200px',\n",
    "                 height = '800px',\n",
    "                 rgb_max = 255,\n",
    "                 camera_radius = 800,\n",
    "                 point_budget = 8000000)"
   ]
  },
  {
   "cell_type": "code",
   "execution_count": null,
   "id": "565b0786-c713-4d01-9bdf-b334db4705e3",
   "metadata": {},
   "outputs": [],
   "source": [
    "show.point_cloud(streaming=True,\n",
    "                 uri=uri,\n",
    "                 token=token,\n",
    "                 max_levels=6,\n",
    "                 point_size = 3,\n",
    "                 color_scheme = 'light',\n",
    "                 width = '1200px',\n",
    "                 height = '800px',\n",
    "                 rgb_max = 255,\n",
    "                 camera_radius = 800,\n",
    "                 point_budget = 8000000,\n",
    "                 use_shader = True)"
   ]
  }
 ],
 "metadata": {
  "kernelspec": {
   "display_name": "Python 3 (ipykernel)",
   "language": "python",
   "name": "python3"
  },
  "language_info": {
   "codemirror_mode": {
    "name": "ipython",
    "version": 3
   },
   "file_extension": ".py",
   "mimetype": "text/x-python",
   "name": "python",
   "nbconvert_exporter": "python",
   "pygments_lexer": "ipython3",
   "version": "3.7.10"
  }
 },
 "nbformat": 4,
 "nbformat_minor": 5
}
