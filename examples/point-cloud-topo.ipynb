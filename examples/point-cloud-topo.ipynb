{
 "cells": [
  {
   "cell_type": "markdown",
   "id": "2ac32241-fbe7-468f-944c-f29da504d93a",
   "metadata": {},
   "source": [
    "# Point Cloud Data Visualization combined with a Mapbox base map\n",
    "\n",
    "* Download point cloud data\n",
    "* Create a sparse TileDB array\n",
    "* Visualize the point cloud with a Mapbox base layer\n",
    "* Customize with optional parameters"
   ]
  },
  {
   "cell_type": "code",
   "execution_count": null,
   "id": "10acb771-d7c5-44ab-820c-81a87ddb35ce",
   "metadata": {},
   "outputs": [],
   "source": [
    "import requests\n",
    "\n",
    "import pdal\n",
    "from pybabylonjs import Show as show\n",
    "import tiledb"
   ]
  },
  {
   "cell_type": "markdown",
   "id": "fbe1ba46-6111-44e5-a079-014d98233a93",
   "metadata": {},
   "source": [
    "## Optional: create a sparse TileDB array from a LAZ file"
   ]
  },
  {
   "cell_type": "code",
   "execution_count": null,
   "id": "a4ae70fc-2509-4372-9838-696d5141552b",
   "metadata": {},
   "outputs": [],
   "source": [
    "!wget -nc \"https://github.com/PDAL/data/blob/master/autzen/autzen-classified.laz?raw=true\" -O \"autzen-classified.laz\""
   ]
  },
  {
   "cell_type": "code",
   "execution_count": null,
   "id": "76e9a3e3-569c-40dd-a14a-ceb24398478a",
   "metadata": {},
   "outputs": [],
   "source": [
    "pipeline = (\n",
    "  pdal.Reader(\"autzen-classified.laz\") |\n",
    "  pdal.Filter.stats() |\n",
    "  pdal.Writer.tiledb(array_name=\"autzen-classified\",chunk_size=100000)\n",
    ")\n",
    "\n",
    "count = pipeline.execute()  "
   ]
  },
  {
   "cell_type": "code",
   "execution_count": null,
   "id": "d0fc4bc6-4439-48ba-814b-cce29bda435f",
   "metadata": {},
   "outputs": [],
   "source": [
    "lidar_array = \"autzen-classified\""
   ]
  },
  {
   "cell_type": "markdown",
   "id": "a983e294-84a7-4a47-9cfc-5a40faf4e96e",
   "metadata": {},
   "source": [
    "To load and display a slice of the data a bounding box with the minimum and maximum values of X, Y and Z are needed:"
   ]
  },
  {
   "cell_type": "code",
   "execution_count": null,
   "id": "96783257-26c9-4b01-9d8d-1e1778ed0aca",
   "metadata": {},
   "outputs": [],
   "source": [
    "bbox = {\n",
    "    'X': [636800, 637800],\n",
    "    'Y': [851000, 853000],\n",
    "    'Z': [406.14, 615.26]\n",
    "}"
   ]
  },
  {
   "cell_type": "markdown",
   "id": "b66ed4cc-77e3-4912-82f1-8a718e65e349",
   "metadata": {},
   "source": [
    "### Visualize the point cloud with a Mapbox base layer\n",
    "\n",
    "*The below example loads the data from a local array, but a mapbox layer can be added to point clouds from all data sources: `local`, `cloud` and `dict`.*\n",
    "\n",
    "Point cloud data from the local array can be loaded and displayed with the below, where `uri` is the location of the array:"
   ]
  },
  {
   "cell_type": "code",
   "execution_count": null,
   "id": "fc25b96b-36c6-4c67-aecc-b42586a8d528",
   "metadata": {},
   "outputs": [],
   "source": [
    "show.point_cloud(source=\"local\",\n",
    "                 mode=\"default\",\n",
    "                 uri=lidar_array,\n",
    "                 bbox = bbox)"
   ]
  },
  {
   "cell_type": "markdown",
   "id": "9027019d-8a1e-4b0d-a562-5307268fe925",
   "metadata": {},
   "source": [
    "To add a base map, a Mapbox token is needed that you can get by [signing up here for free](https://www.mapbox.com). Paste the mapbox token below (`***`):"
   ]
  },
  {
   "cell_type": "code",
   "execution_count": null,
   "id": "3d450a7d-ad23-4b98-9013-2ccb3418a180",
   "metadata": {},
   "outputs": [],
   "source": [
    "mbtoken = \"***\""
   ]
  },
  {
   "cell_type": "markdown",
   "id": "f66cc94e-a9b8-450b-8b4b-56a9dbfd2a16",
   "metadata": {},
   "source": [
    "Now display the point cloud with a Mapbox layer by changing the `mode` to `topo` and adding the following parameters:\n",
    "\n",
    "* `mbtoken`\n",
    "* `mbstyle` is the [style of the map](https://docs.mapbox.com/api/maps/styles/) to use\n",
    "* `crs` is the coordinate reference system of the point cloud that is needed to convert the bounding box to latitude and longitude\n",
    "* `topo_offset` is the height (Z) of where you want to place the map relative to the point cloud"
   ]
  },
  {
   "cell_type": "code",
   "execution_count": null,
   "id": "807c4ab4-6420-4760-bf4c-c648ed29ce44",
   "metadata": {},
   "outputs": [],
   "source": [
    "show.point_cloud(source=\"local\",\n",
    "                 mode=\"topo\",\n",
    "                 uri=lidar_array,\n",
    "                 bbox=bbox,\n",
    "                 topo_offset = 10,\n",
    "                 mbtoken = mbtoken,\n",
    "                 mbstyle = \"streets-v11\",\n",
    "                 crs = \"EPSG:2994\")"
   ]
  },
  {
   "cell_type": "code",
   "execution_count": null,
   "id": "3c2bba7c-a4f6-4697-8b2a-0a05063de0c9",
   "metadata": {},
   "outputs": [],
   "source": [
    "show.point_cloud(source=\"local\",\n",
    "                mode=\"topo\",\n",
    "                uri=lidar_array,\n",
    "                bbox=bbox,\n",
    "                topo_offset = 20,\n",
    "                mbtoken = mbtoken,\n",
    "                mbstyle = \"satellite-v9\",\n",
    "                crs = \"EPSG:2994\",\n",
    "                width=1200,\n",
    "                height=800,\n",
    "                z_scale=1.5,\n",
    "                point_size=2,\n",
    "                show_fraction=4,\n",
    "                color_scheme=\"blue\")"
   ]
  },
  {
   "cell_type": "code",
   "execution_count": null,
   "id": "bc67b92e-3d9e-4a25-b8dd-b2a9eb19c18d",
   "metadata": {},
   "outputs": [],
   "source": []
  }
 ],
 "metadata": {
  "kernelspec": {
   "display_name": "Python 3 (ipykernel)",
   "language": "python",
   "name": "python3"
  },
  "language_info": {
   "codemirror_mode": {
    "name": "ipython",
    "version": 3
   },
   "file_extension": ".py",
   "mimetype": "text/x-python",
   "name": "python",
   "nbconvert_exporter": "python",
   "pygments_lexer": "ipython3",
   "version": "3.7.10"
  }
 },
 "nbformat": 4,
 "nbformat_minor": 5
}
