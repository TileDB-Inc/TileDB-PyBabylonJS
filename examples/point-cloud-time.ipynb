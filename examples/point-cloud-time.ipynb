{
 "cells": [
  {
   "cell_type": "markdown",
   "id": "d4f53ca1-2726-4c0c-af0b-d39831237087",
   "metadata": {},
   "source": [
    "# Point Cloud Data Visualization with a time slider\n",
    "\n",
    "* Download point cloud data\n",
    "* Create a sparse TileDB array\n",
    "* Visualize the point cloud with a time slider\n",
    "* Customize with optional parameters"
   ]
  },
  {
   "cell_type": "code",
   "execution_count": null,
   "id": "c33b9bc9-cb24-4064-b8ec-61b1b332a266",
   "metadata": {},
   "outputs": [],
   "source": [
    "import requests\n",
    "\n",
    "import pdal\n",
    "from pybabylonjs import Show as show\n",
    "import tiledb"
   ]
  },
  {
   "cell_type": "markdown",
   "id": "fb67c477-5b04-4fd8-bec7-a286e7ae92a2",
   "metadata": {},
   "source": [
    "## Optional: create a sparse TileDB array from a LAZ file"
   ]
  },
  {
   "cell_type": "code",
   "execution_count": null,
   "id": "f9eb5905-32a5-49e6-9b96-d89a701f91f9",
   "metadata": {},
   "outputs": [],
   "source": [
    "!wget -nc \"https://github.com/PDAL/data/blob/master/autzen/autzen-classified.laz?raw=true\" -O \"autzen-classified.laz\""
   ]
  },
  {
   "cell_type": "code",
   "execution_count": null,
   "id": "d878a610-ad6f-4796-bf25-1c2f1c4d31c9",
   "metadata": {},
   "outputs": [],
   "source": [
    "pipeline = (\n",
    "  pdal.Reader(\"autzen-classified.laz\") |\n",
    "  pdal.Filter.stats() |\n",
    "  pdal.Writer.tiledb(array_name=\"autzen-classified\",chunk_size=100000)\n",
    ")\n",
    "\n",
    "count = pipeline.execute()  "
   ]
  },
  {
   "cell_type": "code",
   "execution_count": null,
   "id": "77cd7fd4-9e77-4307-bb7a-c828a9395530",
   "metadata": {},
   "outputs": [],
   "source": [
    "lidar_array = \"autzen-classified\""
   ]
  },
  {
   "cell_type": "markdown",
   "id": "300faf9b-716e-4c3c-af00-86d9cf118b39",
   "metadata": {},
   "source": [
    "To load and display a slice of the data a bounding box with the minimum and maximum values of X, Y and Z are needed:"
   ]
  },
  {
   "cell_type": "code",
   "execution_count": null,
   "id": "7aa48a9d-9aba-4919-8ed6-3fea268b5bf4",
   "metadata": {},
   "outputs": [],
   "source": [
    "bbox = {\n",
    "    'X': [636800, 637800],\n",
    "    'Y': [851000, 853000],\n",
    "    'Z': [406.14, 615.26]\n",
    "}"
   ]
  },
  {
   "cell_type": "markdown",
   "id": "e179da13-10d4-42c6-ad8e-7850339eee2e",
   "metadata": {},
   "source": [
    "### Visualize the point cloud with a time slider\n",
    "\n",
    "*The below example loads the data from a local array, but a time slider can be added to point clouds from all data sources: `local`, `cloud` and `dict`.*\n",
    "\n",
    "Point cloud data from the local array can be loaded and displayed with the below, where `uri` is the location of the array:"
   ]
  },
  {
   "cell_type": "code",
   "execution_count": null,
   "id": "29b8b806-b785-4784-a802-d5d7d735a12a",
   "metadata": {},
   "outputs": [],
   "source": [
    "show.point_cloud(source=\"local\",\n",
    "                 mode=\"default\",\n",
    "                 uri=lidar_array,\n",
    "                 bbox = bbox)"
   ]
  },
  {
   "cell_type": "markdown",
   "id": "e06eaa47-7277-419f-b204-69c8418628ee",
   "metadata": {},
   "source": [
    "To add a time slider change the mode from `default` to `time`, make sure there is an attribute `GpsTime` in the array and add the following parameters:"
   ]
  },
  {
   "cell_type": "code",
   "execution_count": null,
   "id": "95fc9ca9-19b5-4872-9369-3473bd286442",
   "metadata": {},
   "outputs": [],
   "source": [
    "show.point_cloud(source=\"local\",\n",
    "                 mode=\"time\",\n",
    "                 uri=lidar_array,\n",
    "                 bbox = bbox)"
   ]
  },
  {
   "cell_type": "markdown",
   "id": "435491c9-1093-4c6a-b67f-6f35047e7b15",
   "metadata": {},
   "source": [
    "## Customize with optional parameters"
   ]
  },
  {
   "cell_type": "code",
   "execution_count": null,
   "id": "c54a3e7a-7edf-4412-a018-b570481f9381",
   "metadata": {},
   "outputs": [],
   "source": [
    "show.point_cloud(source=\"local\",\n",
    "                mode=\"time\",\n",
    "                uri=lidar_array,\n",
    "                bbox = bbox,\n",
    "                width=1200,\n",
    "                height=800,\n",
    "                z_scale=1.5,\n",
    "                point_size=3,\n",
    "                color_scheme=\"blue\")"
   ]
  },
  {
   "cell_type": "code",
   "execution_count": null,
   "id": "3f29c476-0dfa-43e8-8eb2-9b680a04da4d",
   "metadata": {},
   "outputs": [],
   "source": []
  }
 ],
 "metadata": {
  "kernelspec": {
   "display_name": "Python 3 (ipykernel)",
   "language": "python",
   "name": "python3"
  },
  "language_info": {
   "codemirror_mode": {
    "name": "ipython",
    "version": 3
   },
   "file_extension": ".py",
   "mimetype": "text/x-python",
   "name": "python",
   "nbconvert_exporter": "python",
   "pygments_lexer": "ipython3",
   "version": "3.7.10"
  }
 },
 "nbformat": 4,
 "nbformat_minor": 5
}
