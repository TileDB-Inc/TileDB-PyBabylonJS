{
 "cells": [
  {
   "cell_type": "markdown",
   "id": "021131af-fdc5-401b-a433-2c95182570da",
   "metadata": {},
   "source": [
    "# Boulder Point Cloud Data Visualization\n",
    "\n",
    "This visualization shows a demo of rendering LiDAR data in an interactive dashboard.\n",
    "\n",
    "Point cloud data from https://www.pixel8.earth/ is licensed as CC by [2.0](https://creativecommons.org/licenses/by/2.0/legalcode) "
   ]
  },
  {
   "cell_type": "code",
   "execution_count": null,
   "id": "871a6409-0a93-4a8c-bf50-40aabed6db9c",
   "metadata": {},
   "outputs": [],
   "source": [
    "from pybabylonjs import Show as show"
   ]
  },
  {
   "cell_type": "code",
   "execution_count": null,
   "id": "d98d37dc-9f34-4a4f-a730-161423a08671",
   "metadata": {},
   "outputs": [],
   "source": [
    "bbox = {\n",
    "    'X': [475425.0, 475428.915],\n",
    "    'Y': [4429710.508, 4429713.178],\n",
    "    'Z': [1651.678, 1658.245]}"
   ]
  },
  {
   "cell_type": "markdown",
   "id": "27e291a4-a09a-436d-9c5d-64a753f739d3",
   "metadata": {},
   "source": [
    "### Cloud array\n",
    "\n",
    "To view point cloud data from a TileDB cloud array a `token` is needed: \n",
    "* [sign up for a TileDB account](https://cloud.tiledb.com/auth/signup)\n",
    "\n",
    "When running this notebook locally:\n",
    "* [create a token as described here](https://docs.tiledb.com/cloud/how-to/account/create-api-tokens)\n",
    "* uncomment the below cell and add your token (`<token>`)\n",
    "* run the below cells\n",
    "\n",
    "When running this notebook on TileDB Cloud:\n",
    "* the token will be automatically loaded\n",
    "* remove the token from the list of parameters of `show.point_cloud`\n",
    "* run the below cells"
   ]
  },
  {
   "cell_type": "code",
   "execution_count": null,
   "id": "6c157357-108a-4d8d-8a97-5f2d75fdb3a2",
   "metadata": {},
   "outputs": [],
   "source": [
    "#token = \"<token>\""
   ]
  },
  {
   "cell_type": "code",
   "execution_count": null,
   "id": "84e968ea-c5df-4c6f-9657-b8982d60fb9b",
   "metadata": {},
   "outputs": [],
   "source": [
    "show.point_cloud(source=\"cloud\",\n",
    "                 uri = \"tiledb://TileDB-Inc/boulder\",\n",
    "                 token=token,\n",
    "                 bbox=bbox,\n",
    "                 point_size = 2.5,\n",
    "                 width = 1000,\n",
    "                 height = 500,\n",
    "                 rgb_max = 65280,\n",
    "                 camera_zoom = [5, 5, 2],\n",
    "                 camera_location = 6,\n",
    "                 point_type = 'fixed_world_size')"
   ]
  },
  {
   "cell_type": "code",
   "execution_count": null,
   "id": "5d0731fe-e332-416a-87ee-a802b167ab95",
   "metadata": {},
   "outputs": [],
   "source": []
  }
 ],
 "metadata": {
  "kernelspec": {
   "display_name": "Python 3 (ipykernel)",
   "language": "python",
   "name": "python3"
  },
  "language_info": {
   "codemirror_mode": {
    "name": "ipython",
    "version": 3
   },
   "file_extension": ".py",
   "mimetype": "text/x-python",
   "name": "python",
   "nbconvert_exporter": "python",
   "pygments_lexer": "ipython3",
   "version": "3.7.10"
  }
 },
 "nbformat": 4,
 "nbformat_minor": 5
}
