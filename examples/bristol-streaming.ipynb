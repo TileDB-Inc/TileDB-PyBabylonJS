{
 "cells": [
  {
   "cell_type": "markdown",
   "id": "fcba3248-ccd2-456e-ae66-bd66f989d6cd",
   "metadata": {},
   "source": [
    "# Stream and visualize the Bristol point cloud\n",
    "\n",
    "This notebook streams and visualizes a point cloud of the area along the river Avon in Bristol (UK). The original data files are from the [National Lidar Programme](https://environment.data.gov.uk/dataset/2e8d0733-4f43-48b4-9e51-631c25d1b0a9)."
   ]
  },
  {
   "cell_type": "code",
   "execution_count": null,
   "id": "1ca01f82-4282-4262-a016-4fd0ee70a4e9",
   "metadata": {},
   "outputs": [],
   "source": [
    "import os\n",
    "from pybabylonjs import Show as show"
   ]
  },
  {
   "cell_type": "markdown",
   "id": "c5c89a6e-3240-4e56-8c83-b091170be7c9",
   "metadata": {},
   "source": [
    "To stream and view point cloud data from a TileDB array a `token` is needed: \n",
    "* [sign up for a TileDB account](https://cloud.tiledb.com/auth/signup)\n",
    "\n",
    "When running this notebook locally:\n",
    "* [create a token as described here](https://docs.tiledb.com/cloud/how-to/account/create-api-tokens)\n",
    "* uncomment the below cell and add your token (`<token>`)\n",
    "* run the below cells\n",
    "\n",
    "When running this notebook on TileDB Cloud:\n",
    "* the token will be automatically loaded\n",
    "* remove the token from the list of parameters of `show.point_cloud`\n",
    "* run the below cells"
   ]
  },
  {
   "cell_type": "code",
   "execution_count": null,
   "id": "08e4ec2c-c0e6-4569-a30f-546f94c39cee",
   "metadata": {},
   "outputs": [],
   "source": [
    "#token = \"<token>\""
   ]
  },
  {
   "cell_type": "code",
   "execution_count": null,
   "id": "57d50a63-1a36-45c8-a6c1-b13def92cd1c",
   "metadata": {},
   "outputs": [],
   "source": [
    "show.point_cloud(streaming=True,\n",
    "                 uri=\"tiledb://TileDB-Inc/bristol\",\n",
    "                 token=token, \n",
    "                 point_size = 4,\n",
    "                 wheel_precision = 0.2,\n",
    "                 color_scheme = 'dark',\n",
    "                 width = 1200,\n",
    "                 height = 800,             \n",
    "                 rgb_max = 255,\n",
    "                 point_budget = 3500000,\n",
    "                 camera_location = 8,\n",
    "                 camera_zoom = [1, 1, 2],\n",
    "                 camera_up = 50, \n",
    "                 move_speed = 8,\n",
    "                 point_type = 'fixed_world_size')"
   ]
  },
  {
   "cell_type": "code",
   "execution_count": null,
   "id": "0550018b-6b97-4484-bb42-2924093d4f5b",
   "metadata": {},
   "outputs": [],
   "source": []
  }
 ],
 "metadata": {
  "kernelspec": {
   "display_name": "Python 3 (ipykernel)",
   "language": "python",
   "name": "python3"
  },
  "language_info": {
   "codemirror_mode": {
    "name": "ipython",
    "version": 3
   },
   "file_extension": ".py",
   "mimetype": "text/x-python",
   "name": "python",
   "nbconvert_exporter": "python",
   "pygments_lexer": "ipython3",
   "version": "3.7.10"
  }
 },
 "nbformat": 4,
 "nbformat_minor": 5
}
