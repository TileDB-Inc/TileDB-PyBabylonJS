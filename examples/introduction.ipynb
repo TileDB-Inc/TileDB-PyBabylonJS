{
 "cells": [
  {
   "cell_type": "markdown",
   "source": [
    "# Introduction"
   ],
   "metadata": {}
  },
  {
   "cell_type": "code",
   "execution_count": 1,
   "source": [
    "import pybabylonjs\n",
    "import tiledb"
   ],
   "outputs": [],
   "metadata": {}
  },
  {
   "cell_type": "code",
   "execution_count": 4,
   "source": [
    "tiledb_uri = 'tiledb://tiledb-inc/boulder'\n",
    "tiledb_token = ''\n",
    "config = tiledb.Config()\n",
    "config['rest.token'] = tiledb_token"
   ],
   "outputs": [],
   "metadata": {}
  },
  {
   "cell_type": "code",
   "execution_count": 5,
   "source": [
    "with tiledb.open(tiledb_uri, ctx=tiledb.Ctx(config)) as arr:\n",
    "    print(f\"Non-empty domain: {arr.nonempty_domain()}\")\n",
    "    pts = arr[475475:475486, :, :]"
   ],
   "outputs": [
    {
     "output_type": "stream",
     "name": "stdout",
     "text": [
      "Non-empty domain: ((475419.137, 476715.406), (4429319.721, 4429910.817), (1612.818, 1662.445))\n"
     ]
    }
   ],
   "metadata": {}
  },
  {
   "cell_type": "code",
   "execution_count": 6,
   "source": [
    "tiledb_uri = 'tiledb://norman/autzen_tiledb'\n",
    "\n",
    "with tiledb.open(tiledb_uri, ctx=tiledb.Ctx(config)) as arr:\n",
    "    print(f\"Non-empty domain: {arr.nonempty_domain()}\")\n",
    "    pts = arr.multi_index[[(638000.0, 638500.0), (850000.0, 850500.0), (406.14, 615.26)]]"
   ],
   "outputs": [
    {
     "output_type": "stream",
     "name": "stdout",
     "text": [
      "Non-empty domain: ((635577.79, 639003.73), (848882.15, 853537.66), (406.14, 615.26))\n"
     ]
    }
   ],
   "metadata": {}
  },
  {
   "cell_type": "code",
   "execution_count": 7,
   "source": [
    "import pickle\n",
    "\n",
    "with open('points.pickle', 'wb') as handle:\n",
    "    pickle.dump(pts, handle, protocol=pickle.HIGHEST_PROTOCOL)"
   ],
   "outputs": [],
   "metadata": {}
  },
  {
   "cell_type": "code",
   "execution_count": 8,
   "source": [
    "import pickle\n",
    "\n",
    "with open('points.pickle', 'rb') as handle:\n",
    "    pts = pickle.load(handle)"
   ],
   "outputs": [],
   "metadata": {}
  },
  {
   "cell_type": "code",
   "execution_count": 9,
   "source": [
    "pts['Red'] = pts['Red'] / 65535.0\n",
    "pts['Green'] = pts['Green'] / 65535.0\n",
    "pts['Blue'] = pts['Blue'] / 65535.0"
   ],
   "outputs": [],
   "metadata": {}
  },
  {
   "cell_type": "code",
   "execution_count": 10,
   "source": [
    "babylon = pybabylonjs.BabylonJS()\n",
    "babylon.value = pts\n",
    "babylon"
   ],
   "outputs": [
    {
     "output_type": "display_data",
     "data": {
      "application/vnd.jupyter.widget-view+json": {
       "model_id": "c905de44a4b54163a1febd616927f276",
       "version_major": 2,
       "version_minor": 0
      },
      "text/plain": [
       "BabylonJS(extents=[638000.02, 638499.99, 848893.4600000001, 853466.4, 409.55, 568.14], value='{\"X\": [638244.61…"
      ]
     },
     "metadata": {}
    }
   ],
   "metadata": {}
  },
  {
   "cell_type": "code",
   "execution_count": null,
   "source": [],
   "outputs": [],
   "metadata": {}
  }
 ],
 "metadata": {
  "kernelspec": {
   "display_name": "Python 3",
   "language": "python",
   "name": "python3"
  },
  "language_info": {
   "codemirror_mode": {
    "name": "ipython",
    "version": 3
   },
   "file_extension": ".py",
   "mimetype": "text/x-python",
   "name": "python",
   "nbconvert_exporter": "python",
   "pygments_lexer": "ipython3",
   "version": "3.8.10"
  }
 },
 "nbformat": 4,
 "nbformat_minor": 4
}