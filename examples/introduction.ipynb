{
 "cells": [
  {
   "cell_type": "markdown",
   "metadata": {},
   "source": [
    "# Introduction"
   ]
  },
  {
   "cell_type": "code",
   "execution_count": null,
   "metadata": {},
   "outputs": [],
   "source": [
    "import pybabylonjs\n",
    "import tiledb"
   ]
  },
  {
   "cell_type": "code",
   "execution_count": null,
   "metadata": {},
   "outputs": [],
   "source": [
    "tiledb_uri = 'tiledb://tiledb-inc/boulder'\n",
    "tiledb_token = ''\n",
    "config = tiledb.Config()\n",
    "config['rest.token'] = tiledb_token"
   ]
  },
  {
   "cell_type": "code",
   "execution_count": null,
   "metadata": {},
   "outputs": [],
   "source": [
    "# with tiledb.open(tiledb_uri, ctx=tiledb.Ctx(config)) as arr:\n",
    "#     print(f\"Non-empty domain: {arr.nonempty_domain()}\")\n",
    "#     pts = arr[475475:475486, :, :]"
   ]
  },
  {
   "cell_type": "code",
   "execution_count": null,
   "metadata": {},
   "outputs": [],
   "source": [
    "# tiledb_uri = 'tiledb://norman/autzen_tiledb'\n",
    "\n",
    "# with tiledb.open(tiledb_uri, ctx=tiledb.Ctx(config)) as arr:\n",
    "#     print(f\"Non-empty domain: {arr.nonempty_domain()}\")\n",
    "#     pts = arr.multi_index[[(638000.0, 638500.0), (850000.0, 850500.0), (406.14, 615.26)]]"
   ]
  },
  {
   "cell_type": "code",
   "execution_count": null,
   "metadata": {},
   "outputs": [],
   "source": [
    "# import pickle\n",
    "\n",
    "# with open('points.pickle', 'wb') as handle:\n",
    "#     pickle.dump(pts, handle, protocol=pickle.HIGHEST_PROTOCOL)"
   ]
  },
  {
   "cell_type": "code",
   "execution_count": null,
   "metadata": {},
   "outputs": [],
   "source": [
    "# import pickle\n",
    "\n",
    "# with open('points.pickle', 'rb') as handle:\n",
    "#     pts = pickle.load(handle)"
   ]
  },
  {
   "cell_type": "code",
   "execution_count": null,
   "metadata": {},
   "outputs": [],
   "source": [
    "pts['Red'] = pts['Red'] / 65535.0\n",
    "pts['Green'] = pts['Green'] / 65535.0\n",
    "pts['Blue'] = pts['Blue'] / 65535.0"
   ]
  },
  {
   "cell_type": "code",
   "execution_count": null,
   "metadata": {},
   "outputs": [],
   "source": [
    "babylon = pybabylonjs.BabylonJS()\n",
    "babylon.value = pts\n",
    "babylon"
   ]
  }
 ],
 "metadata": {
  "kernelspec": {
   "display_name": "Python 3",
   "language": "python",
   "name": "python3"
  },
  "language_info": {
   "codemirror_mode": {
    "name": "ipython",
    "version": 3
   },
   "file_extension": ".py",
   "mimetype": "text/x-python",
   "name": "python",
   "nbconvert_exporter": "python",
   "pygments_lexer": "ipython3",
   "version": "3.7.10"
  }
 },
 "nbformat": 4,
 "nbformat_minor": 4
}
